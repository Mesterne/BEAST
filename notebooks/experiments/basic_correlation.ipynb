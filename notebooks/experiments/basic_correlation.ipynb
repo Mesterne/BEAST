{
 "cells": [
  {
   "cell_type": "code",
   "execution_count": 1,
   "metadata": {},
   "outputs": [],
   "source": [
    "import sys\n",
    "import os\n",
    "\n",
    "# Add project root to the system path\n",
    "project_root = os.path.abspath(os.path.join(os.getcwd(), \"../../\"))\n",
    "if project_root not in sys.path:\n",
    "    sys.path.append(project_root)\n"
   ]
  },
  {
   "cell_type": "markdown",
   "metadata": {},
   "source": [
    "# Loading experiment parameters"
   ]
  },
  {
   "cell_type": "code",
   "execution_count": 2,
   "metadata": {},
   "outputs": [
    {
     "data": {
      "text/plain": [
       "{'dataset_args': {'directory': '/Users/vegardsjavik/Uni/Master/Thesis/BEAST/data/gridloss',\n",
       "  'training_data': 'train.csv',\n",
       "  'test_data': 'test.csv',\n",
       "  'window_size': 24,\n",
       "  'timeseries_to_use': ['grid1-loss', 'grid1-load', 'grid1-temp']},\n",
       " 'model_args': {'window_size': 24,\n",
       "  'network_size': [100, 100],\n",
       "  'horizon_length': 24,\n",
       "  'model_name': 'feedforward',\n",
       "  'model_params_storage_dir': '/Users/vegardsjavik/Uni/Master/Thesis/BEAST/models/feedforward'},\n",
       " 'training_args': {'batch_size': 16, 'epochs': 1000, 'learning_rate': 0.001}}"
      ]
     },
     "execution_count": 2,
     "metadata": {},
     "output_type": "execute_result"
    }
   ],
   "source": [
    "from src.utils.yaml_loader import read_yaml\n",
    "\n",
    "settings = read_yaml('../../experiments/gridloss/feedforward.yml')\n",
    "settings"
   ]
  },
  {
   "cell_type": "code",
   "execution_count": 3,
   "metadata": {},
   "outputs": [],
   "source": [
    "learning_rate = settings['training_args']['learning_rate']\n",
    "window_size = settings['model_args']['window_size']\n",
    "horizon_length = settings['model_args']['horizon_length']\n",
    "features_to_use = settings['dataset_args']['timeseries_to_use']\n",
    "model_save_dir = settings['model_args']['model_params_storage_dir']\n",
    "\n",
    "input_size = window_size*len(features_to_use)\n",
    "output_size = horizon_length"
   ]
  },
  {
   "cell_type": "markdown",
   "metadata": {},
   "source": [
    "# Creating model"
   ]
  },
  {
   "cell_type": "code",
   "execution_count": 4,
   "metadata": {},
   "outputs": [
    {
     "name": "stdout",
     "output_type": "stream",
     "text": [
      "Loading trained model from /Users/vegardsjavik/Uni/Master/Thesis/BEAST/models/feedforward/feedforward_forecaster.pth...\n"
     ]
    },
    {
     "name": "stderr",
     "output_type": "stream",
     "text": [
      "/Users/vegardsjavik/Uni/Master/Thesis/BEAST/src/models/feedforward.py:84: FutureWarning: You are using `torch.load` with `weights_only=False` (the current default value), which uses the default pickle module implicitly. It is possible to construct malicious pickle data which will execute arbitrary code during unpickling (See https://github.com/pytorch/pytorch/blob/main/SECURITY.md#untrusted-models for more details). In a future release, the default value for `weights_only` will be flipped to `True`. This limits the functions that could be executed during unpickling. Arbitrary objects will no longer be allowed to be loaded via this mode unless they are explicitly allowlisted by the user via `torch.serialization.add_safe_globals`. We recommend you start setting `weights_only=True` for any use case where you don't have full control of the loaded file. Please open an issue on GitHub for any issues related to this experimental feature.\n",
      "  model = load(self.save_dir)\n"
     ]
    }
   ],
   "source": [
    "from src.models.feedforward import NN\n",
    "\n",
    "model = NN(\n",
    "    input_size=input_size,\n",
    "    output_size=output_size,\n",
    "    learning_rate=learning_rate,\n",
    "    save_dir=model_save_dir\n",
    ")"
   ]
  }
 ],
 "metadata": {
  "kernelspec": {
   "display_name": "BEAST_ENV",
   "language": "python",
   "name": "python3"
  },
  "language_info": {
   "codemirror_mode": {
    "name": "ipython",
    "version": 3
   },
   "file_extension": ".py",
   "mimetype": "text/x-python",
   "name": "python",
   "nbconvert_exporter": "python",
   "pygments_lexer": "ipython3",
   "version": "3.12.8"
  }
 },
 "nbformat": 4,
 "nbformat_minor": 2
}
