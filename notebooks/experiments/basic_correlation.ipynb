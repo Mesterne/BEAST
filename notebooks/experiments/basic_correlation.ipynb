{
 "cells": [
  {
   "cell_type": "code",
   "execution_count": 11,
   "metadata": {},
   "outputs": [],
   "source": [
    "import plotly.express as px\n",
    "from plotly.subplots import make_subplots\n",
    "import plotly.graph_objects as go"
   ]
  },
  {
   "cell_type": "code",
   "execution_count": 12,
   "metadata": {},
   "outputs": [],
   "source": [
    "import sys\n",
    "import os\n",
    "\n",
    "# Add project root to the system path\n",
    "project_root = os.path.abspath(os.path.join(os.getcwd(), \"../../\"))\n",
    "if project_root not in sys.path:\n",
    "    sys.path.append(project_root)\n"
   ]
  },
  {
   "cell_type": "markdown",
   "metadata": {},
   "source": [
    "# Loading experiment parameters"
   ]
  },
  {
   "cell_type": "code",
   "execution_count": 13,
   "metadata": {},
   "outputs": [
    {
     "data": {
      "text/plain": [
       "{'dataset_args': {'directory': '/Users/vegardsjavik/Uni/Master/Thesis/BEAST/data/gridloss',\n",
       "  'training_data': 'train.csv',\n",
       "  'test_data': 'test.csv',\n",
       "  'window_size': 168,\n",
       "  'step_size': 24,\n",
       "  'timeseries_to_use': ['grid1-load', 'grid1-temp', 'grid1-loss']},\n",
       " 'forecasting_model_args': {'window_size': 168,\n",
       "  'network_size': [100, 100],\n",
       "  'horizon_length': 24,\n",
       "  'model_name': 'feedforward',\n",
       "  'model_params_storage_dir': '/Users/vegardsjavik/Uni/Master/Thesis/BEAST/models/feedforward'},\n",
       " 'training_args': {'batch_size': 16, 'epochs': 100, 'learning_rate': 0.001}}"
      ]
     },
     "execution_count": 13,
     "metadata": {},
     "output_type": "execute_result"
    }
   ],
   "source": [
    "from src.utils.yaml_loader import read_yaml\n",
    "\n",
    "settings = read_yaml('../../experiments/gridloss/feedforward.yml')\n",
    "settings"
   ]
  },
  {
   "cell_type": "code",
   "execution_count": 14,
   "metadata": {},
   "outputs": [],
   "source": [
    "features_to_use = settings['dataset_args']['timeseries_to_use']\n",
    "data_dir = os.path.join(settings['dataset_args']['directory'], 'train.csv')\n",
    "step_size = settings['dataset_args']['step_size']\n",
    "\n",
    "learning_rate = settings['training_args']['learning_rate']\n",
    "\n",
    "window_size = settings['forecasting_model_args']['window_size']\n",
    "horizon_length = settings['forecasting_model_args']['horizon_length']\n",
    "model_save_dir = settings['forecasting_model_args']['model_params_storage_dir']\n",
    "\n",
    "input_size = window_size*len(features_to_use)\n",
    "output_size = horizon_length"
   ]
  },
  {
   "cell_type": "markdown",
   "metadata": {},
   "source": [
    "# Loading pretrained forecasting model"
   ]
  },
  {
   "cell_type": "code",
   "execution_count": 15,
   "metadata": {},
   "outputs": [
    {
     "name": "stdout",
     "output_type": "stream",
     "text": [
      "Loading trained model from /Users/vegardsjavik/Uni/Master/Thesis/BEAST/models/feedforward/feedforward_forecaster.pth...\n"
     ]
    },
    {
     "name": "stderr",
     "output_type": "stream",
     "text": [
      "/Users/vegardsjavik/Uni/Master/Thesis/BEAST/src/models/feedforward.py:36: FutureWarning:\n",
      "\n",
      "You are using `torch.load` with `weights_only=False` (the current default value), which uses the default pickle module implicitly. It is possible to construct malicious pickle data which will execute arbitrary code during unpickling (See https://github.com/pytorch/pytorch/blob/main/SECURITY.md#untrusted-models for more details). In a future release, the default value for `weights_only` will be flipped to `True`. This limits the functions that could be executed during unpickling. Arbitrary objects will no longer be allowed to be loaded via this mode unless they are explicitly allowlisted by the user via `torch.serialization.add_safe_globals`. We recommend you start setting `weights_only=True` for any use case where you don't have full control of the loaded file. Please open an issue on GitHub for any issues related to this experimental feature.\n",
      "\n"
     ]
    }
   ],
   "source": [
    "from src.models.feedforward import NN\n",
    "\n",
    "model = NN(\n",
    "    input_size=input_size,\n",
    "    output_size=output_size,\n",
    "    save_dir=model_save_dir\n",
    ")"
   ]
  },
  {
   "cell_type": "markdown",
   "metadata": {},
   "source": [
    "# Loading data"
   ]
  },
  {
   "cell_type": "markdown",
   "metadata": {},
   "source": []
  },
  {
   "cell_type": "code",
   "execution_count": 16,
   "metadata": {},
   "outputs": [
    {
     "name": "stdout",
     "output_type": "stream",
     "text": [
      "<class 'pandas.core.frame.DataFrame'>\n",
      "DatetimeIndex: 17520 entries, 2017-12-01 00:00:00 to 2019-11-30 23:00:00\n",
      "Data columns (total 3 columns):\n",
      " #   Column      Non-Null Count  Dtype  \n",
      "---  ------      --------------  -----  \n",
      " 0   grid1-load  17520 non-null  float64\n",
      " 1   grid1-temp  17520 non-null  float64\n",
      " 2   grid1-loss  17520 non-null  float64\n",
      "dtypes: float64(3)\n",
      "memory usage: 547.5 KB\n"
     ]
    }
   ],
   "source": [
    "import pandas as pd\n",
    "\n",
    "df = pd.read_csv(data_dir, index_col=0)\n",
    "df.index = pd.to_datetime(df.index)\n",
    "df = df[features_to_use]\n",
    "df = df.bfill()\n",
    "df.info()"
   ]
  },
  {
   "cell_type": "markdown",
   "metadata": {},
   "source": [
    "## Creating windows of dataset"
   ]
  },
  {
   "cell_type": "code",
   "execution_count": 17,
   "metadata": {},
   "outputs": [
    {
     "name": "stderr",
     "output_type": "stream",
     "text": [
      "100%|██████████| 724/724 [00:00<00:00, 103995.76it/s]\n"
     ]
    }
   ],
   "source": [
    "from src.utils.generate_dataset import generate_windows_dataset\n",
    "\n",
    "num_ts = len(features_to_use)\n",
    "dataset_size = (df.shape[0] - window_size)//step_size + 1\n",
    "\n",
    "data = generate_windows_dataset(df, window_size, step_size, features_to_use)"
   ]
  },
  {
   "cell_type": "markdown",
   "metadata": {},
   "source": [
    "## Calculate features"
   ]
  },
  {
   "cell_type": "code",
   "execution_count": 18,
   "metadata": {},
   "outputs": [
    {
     "name": "stderr",
     "output_type": "stream",
     "text": [
      "100%|██████████| 724/724 [00:04<00:00, 165.62it/s]"
     ]
    },
    {
     "name": "stdout",
     "output_type": "stream",
     "text": [
      "(724, 3) (724, 3, 4)\n"
     ]
    },
    {
     "name": "stderr",
     "output_type": "stream",
     "text": [
      "\n"
     ]
    }
   ],
   "source": [
    "from src.utils.features import decomp_and_features\n",
    "import numpy as np\n",
    "\n",
    "sp = 24 # STL parameter\n",
    "\n",
    "decomps, features = decomp_and_features(data, series_periodicity=sp, dataset_size=dataset_size)\n",
    "print(np.asarray(decomps).shape, features.shape)"
   ]
  },
  {
   "cell_type": "markdown",
   "metadata": {},
   "source": [
    "## PCA"
   ]
  },
  {
   "cell_type": "code",
   "execution_count": 19,
   "metadata": {},
   "outputs": [
    {
     "name": "stdout",
     "output_type": "stream",
     "text": [
      "(724, 3, 4)\n",
      "(724, 12)\n"
     ]
    }
   ],
   "source": [
    "from sklearn.decomposition import PCA\n",
    "print(features.shape)\n",
    "mts_features_reshape = features.reshape((features.shape[0], features.shape[1]*features.shape[2]))\n",
    "print(mts_features_reshape.shape)\n",
    "\n",
    "pca_2d = PCA(n_components=2)\n",
    "mts_pca_2d = pca_2d.fit_transform(mts_features_reshape)\n",
    "\n",
    "mts_pca_df = pd.DataFrame(data=mts_pca_2d, columns=[\"pca1\", \"pca2\"])\n",
    "mts_pca_df['index'] = mts_pca_df.index"
   ]
  },
  {
   "cell_type": "code",
   "execution_count": 20,
   "metadata": {},
   "outputs": [
    {
     "data": {
      "application/vnd.plotly.v1+json": {
       "config": {
        "plotlyServerURL": "https://plot.ly"
       },
       "data": [
        {
         "customdata": [
          [
           0
          ],
          [
           1
          ],
          [
           2
          ],
          [
           3
          ],
          [
           4
          ],
          [
           5
          ],
          [
           6
          ],
          [
           7
          ],
          [
           8
          ],
          [
           9
          ],
          [
           10
          ],
          [
           11
          ],
          [
           12
          ],
          [
           13
          ],
          [
           14
          ],
          [
           15
          ],
          [
           16
          ],
          [
           17
          ],
          [
           18
          ],
          [
           19
          ],
          [
           20
          ],
          [
           21
          ],
          [
           22
          ],
          [
           23
          ],
          [
           24
          ],
          [
           25
          ],
          [
           26
          ],
          [
           27
          ],
          [
           28
          ],
          [
           29
          ],
          [
           30
          ],
          [
           31
          ],
          [
           32
          ],
          [
           33
          ],
          [
           34
          ],
          [
           35
          ],
          [
           36
          ],
          [
           37
          ],
          [
           38
          ],
          [
           39
          ],
          [
           40
          ],
          [
           41
          ],
          [
           42
          ],
          [
           43
          ],
          [
           44
          ],
          [
           45
          ],
          [
           46
          ],
          [
           47
          ],
          [
           48
          ],
          [
           49
          ],
          [
           50
          ],
          [
           51
          ],
          [
           52
          ],
          [
           53
          ],
          [
           54
          ],
          [
           55
          ],
          [
           56
          ],
          [
           57
          ],
          [
           58
          ],
          [
           59
          ],
          [
           60
          ],
          [
           61
          ],
          [
           62
          ],
          [
           63
          ],
          [
           64
          ],
          [
           65
          ],
          [
           66
          ],
          [
           67
          ],
          [
           68
          ],
          [
           69
          ],
          [
           70
          ],
          [
           71
          ],
          [
           72
          ],
          [
           73
          ],
          [
           74
          ],
          [
           75
          ],
          [
           76
          ],
          [
           77
          ],
          [
           78
          ],
          [
           79
          ],
          [
           80
          ],
          [
           81
          ],
          [
           82
          ],
          [
           83
          ],
          [
           84
          ],
          [
           85
          ],
          [
           86
          ],
          [
           87
          ],
          [
           88
          ],
          [
           89
          ],
          [
           90
          ],
          [
           91
          ],
          [
           92
          ],
          [
           93
          ],
          [
           94
          ],
          [
           95
          ],
          [
           96
          ],
          [
           97
          ],
          [
           98
          ],
          [
           99
          ],
          [
           100
          ],
          [
           101
          ],
          [
           102
          ],
          [
           103
          ],
          [
           104
          ],
          [
           105
          ],
          [
           106
          ],
          [
           107
          ],
          [
           108
          ],
          [
           109
          ],
          [
           110
          ],
          [
           111
          ],
          [
           112
          ],
          [
           113
          ],
          [
           114
          ],
          [
           115
          ],
          [
           116
          ],
          [
           117
          ],
          [
           118
          ],
          [
           119
          ],
          [
           120
          ],
          [
           121
          ],
          [
           122
          ],
          [
           123
          ],
          [
           124
          ],
          [
           125
          ],
          [
           126
          ],
          [
           127
          ],
          [
           128
          ],
          [
           129
          ],
          [
           130
          ],
          [
           131
          ],
          [
           132
          ],
          [
           133
          ],
          [
           134
          ],
          [
           135
          ],
          [
           136
          ],
          [
           137
          ],
          [
           138
          ],
          [
           139
          ],
          [
           140
          ],
          [
           141
          ],
          [
           142
          ],
          [
           143
          ],
          [
           144
          ],
          [
           145
          ],
          [
           146
          ],
          [
           147
          ],
          [
           148
          ],
          [
           149
          ],
          [
           150
          ],
          [
           151
          ],
          [
           152
          ],
          [
           153
          ],
          [
           154
          ],
          [
           155
          ],
          [
           156
          ],
          [
           157
          ],
          [
           158
          ],
          [
           159
          ],
          [
           160
          ],
          [
           161
          ],
          [
           162
          ],
          [
           163
          ],
          [
           164
          ],
          [
           165
          ],
          [
           166
          ],
          [
           167
          ],
          [
           168
          ],
          [
           169
          ],
          [
           170
          ],
          [
           171
          ],
          [
           172
          ],
          [
           173
          ],
          [
           174
          ],
          [
           175
          ],
          [
           176
          ],
          [
           177
          ],
          [
           178
          ],
          [
           179
          ],
          [
           180
          ],
          [
           181
          ],
          [
           182
          ],
          [
           183
          ],
          [
           184
          ],
          [
           185
          ],
          [
           186
          ],
          [
           187
          ],
          [
           188
          ],
          [
           189
          ],
          [
           190
          ],
          [
           191
          ],
          [
           192
          ],
          [
           193
          ],
          [
           194
          ],
          [
           195
          ],
          [
           196
          ],
          [
           197
          ],
          [
           198
          ],
          [
           199
          ],
          [
           200
          ],
          [
           201
          ],
          [
           202
          ],
          [
           203
          ],
          [
           204
          ],
          [
           205
          ],
          [
           206
          ],
          [
           207
          ],
          [
           208
          ],
          [
           209
          ],
          [
           210
          ],
          [
           211
          ],
          [
           212
          ],
          [
           213
          ],
          [
           214
          ],
          [
           215
          ],
          [
           216
          ],
          [
           217
          ],
          [
           218
          ],
          [
           219
          ],
          [
           220
          ],
          [
           221
          ],
          [
           222
          ],
          [
           223
          ],
          [
           224
          ],
          [
           225
          ],
          [
           226
          ],
          [
           227
          ],
          [
           228
          ],
          [
           229
          ],
          [
           230
          ],
          [
           231
          ],
          [
           232
          ],
          [
           233
          ],
          [
           234
          ],
          [
           235
          ],
          [
           236
          ],
          [
           237
          ],
          [
           238
          ],
          [
           239
          ],
          [
           240
          ],
          [
           241
          ],
          [
           242
          ],
          [
           243
          ],
          [
           244
          ],
          [
           245
          ],
          [
           246
          ],
          [
           247
          ],
          [
           248
          ],
          [
           249
          ],
          [
           250
          ],
          [
           251
          ],
          [
           252
          ],
          [
           253
          ],
          [
           254
          ],
          [
           255
          ],
          [
           256
          ],
          [
           257
          ],
          [
           258
          ],
          [
           259
          ],
          [
           260
          ],
          [
           261
          ],
          [
           262
          ],
          [
           263
          ],
          [
           264
          ],
          [
           265
          ],
          [
           266
          ],
          [
           267
          ],
          [
           268
          ],
          [
           269
          ],
          [
           270
          ],
          [
           271
          ],
          [
           272
          ],
          [
           273
          ],
          [
           274
          ],
          [
           275
          ],
          [
           276
          ],
          [
           277
          ],
          [
           278
          ],
          [
           279
          ],
          [
           280
          ],
          [
           281
          ],
          [
           282
          ],
          [
           283
          ],
          [
           284
          ],
          [
           285
          ],
          [
           286
          ],
          [
           287
          ],
          [
           288
          ],
          [
           289
          ],
          [
           290
          ],
          [
           291
          ],
          [
           292
          ],
          [
           293
          ],
          [
           294
          ],
          [
           295
          ],
          [
           296
          ],
          [
           297
          ],
          [
           298
          ],
          [
           299
          ],
          [
           300
          ],
          [
           301
          ],
          [
           302
          ],
          [
           303
          ],
          [
           304
          ],
          [
           305
          ],
          [
           306
          ],
          [
           307
          ],
          [
           308
          ],
          [
           309
          ],
          [
           310
          ],
          [
           311
          ],
          [
           312
          ],
          [
           313
          ],
          [
           314
          ],
          [
           315
          ],
          [
           316
          ],
          [
           317
          ],
          [
           318
          ],
          [
           319
          ],
          [
           320
          ],
          [
           321
          ],
          [
           322
          ],
          [
           323
          ],
          [
           324
          ],
          [
           325
          ],
          [
           326
          ],
          [
           327
          ],
          [
           328
          ],
          [
           329
          ],
          [
           330
          ],
          [
           331
          ],
          [
           332
          ],
          [
           333
          ],
          [
           334
          ],
          [
           335
          ],
          [
           336
          ],
          [
           337
          ],
          [
           338
          ],
          [
           339
          ],
          [
           340
          ],
          [
           341
          ],
          [
           342
          ],
          [
           343
          ],
          [
           344
          ],
          [
           345
          ],
          [
           346
          ],
          [
           347
          ],
          [
           348
          ],
          [
           349
          ],
          [
           350
          ],
          [
           351
          ],
          [
           352
          ],
          [
           353
          ],
          [
           354
          ],
          [
           355
          ],
          [
           356
          ],
          [
           357
          ],
          [
           358
          ],
          [
           359
          ],
          [
           360
          ],
          [
           361
          ],
          [
           362
          ],
          [
           363
          ],
          [
           364
          ],
          [
           365
          ],
          [
           366
          ],
          [
           367
          ],
          [
           368
          ],
          [
           369
          ],
          [
           370
          ],
          [
           371
          ],
          [
           372
          ],
          [
           373
          ],
          [
           374
          ],
          [
           375
          ],
          [
           376
          ],
          [
           377
          ],
          [
           378
          ],
          [
           379
          ],
          [
           380
          ],
          [
           381
          ],
          [
           382
          ],
          [
           383
          ],
          [
           384
          ],
          [
           385
          ],
          [
           386
          ],
          [
           387
          ],
          [
           388
          ],
          [
           389
          ],
          [
           390
          ],
          [
           391
          ],
          [
           392
          ],
          [
           393
          ],
          [
           394
          ],
          [
           395
          ],
          [
           396
          ],
          [
           397
          ],
          [
           398
          ],
          [
           399
          ],
          [
           400
          ],
          [
           401
          ],
          [
           402
          ],
          [
           403
          ],
          [
           404
          ],
          [
           405
          ],
          [
           406
          ],
          [
           407
          ],
          [
           408
          ],
          [
           409
          ],
          [
           410
          ],
          [
           411
          ],
          [
           412
          ],
          [
           413
          ],
          [
           414
          ],
          [
           415
          ],
          [
           416
          ],
          [
           417
          ],
          [
           418
          ],
          [
           419
          ],
          [
           420
          ],
          [
           421
          ],
          [
           422
          ],
          [
           423
          ],
          [
           424
          ],
          [
           425
          ],
          [
           426
          ],
          [
           427
          ],
          [
           428
          ],
          [
           429
          ],
          [
           430
          ],
          [
           431
          ],
          [
           432
          ],
          [
           433
          ],
          [
           434
          ],
          [
           435
          ],
          [
           436
          ],
          [
           437
          ],
          [
           438
          ],
          [
           439
          ],
          [
           440
          ],
          [
           441
          ],
          [
           442
          ],
          [
           443
          ],
          [
           444
          ],
          [
           445
          ],
          [
           446
          ],
          [
           447
          ],
          [
           448
          ],
          [
           449
          ],
          [
           450
          ],
          [
           451
          ],
          [
           452
          ],
          [
           453
          ],
          [
           454
          ],
          [
           455
          ],
          [
           456
          ],
          [
           457
          ],
          [
           458
          ],
          [
           459
          ],
          [
           460
          ],
          [
           461
          ],
          [
           462
          ],
          [
           463
          ],
          [
           464
          ],
          [
           465
          ],
          [
           466
          ],
          [
           467
          ],
          [
           468
          ],
          [
           469
          ],
          [
           470
          ],
          [
           471
          ],
          [
           472
          ],
          [
           473
          ],
          [
           474
          ],
          [
           475
          ],
          [
           476
          ],
          [
           477
          ],
          [
           478
          ],
          [
           479
          ],
          [
           480
          ],
          [
           481
          ],
          [
           482
          ],
          [
           483
          ],
          [
           484
          ],
          [
           485
          ],
          [
           486
          ],
          [
           487
          ],
          [
           488
          ],
          [
           489
          ],
          [
           490
          ],
          [
           491
          ],
          [
           492
          ],
          [
           493
          ],
          [
           494
          ],
          [
           495
          ],
          [
           496
          ],
          [
           497
          ],
          [
           498
          ],
          [
           499
          ],
          [
           500
          ],
          [
           501
          ],
          [
           502
          ],
          [
           503
          ],
          [
           504
          ],
          [
           505
          ],
          [
           506
          ],
          [
           507
          ],
          [
           508
          ],
          [
           509
          ],
          [
           510
          ],
          [
           511
          ],
          [
           512
          ],
          [
           513
          ],
          [
           514
          ],
          [
           515
          ],
          [
           516
          ],
          [
           517
          ],
          [
           518
          ],
          [
           519
          ],
          [
           520
          ],
          [
           521
          ],
          [
           522
          ],
          [
           523
          ],
          [
           524
          ],
          [
           525
          ],
          [
           526
          ],
          [
           527
          ],
          [
           528
          ],
          [
           529
          ],
          [
           530
          ],
          [
           531
          ],
          [
           532
          ],
          [
           533
          ],
          [
           534
          ],
          [
           535
          ],
          [
           536
          ],
          [
           537
          ],
          [
           538
          ],
          [
           539
          ],
          [
           540
          ],
          [
           541
          ],
          [
           542
          ],
          [
           543
          ],
          [
           544
          ],
          [
           545
          ],
          [
           546
          ],
          [
           547
          ],
          [
           548
          ],
          [
           549
          ],
          [
           550
          ],
          [
           551
          ],
          [
           552
          ],
          [
           553
          ],
          [
           554
          ],
          [
           555
          ],
          [
           556
          ],
          [
           557
          ],
          [
           558
          ],
          [
           559
          ],
          [
           560
          ],
          [
           561
          ],
          [
           562
          ],
          [
           563
          ],
          [
           564
          ],
          [
           565
          ],
          [
           566
          ],
          [
           567
          ],
          [
           568
          ],
          [
           569
          ],
          [
           570
          ],
          [
           571
          ],
          [
           572
          ],
          [
           573
          ],
          [
           574
          ],
          [
           575
          ],
          [
           576
          ],
          [
           577
          ],
          [
           578
          ],
          [
           579
          ],
          [
           580
          ],
          [
           581
          ],
          [
           582
          ],
          [
           583
          ],
          [
           584
          ],
          [
           585
          ],
          [
           586
          ],
          [
           587
          ],
          [
           588
          ],
          [
           589
          ],
          [
           590
          ],
          [
           591
          ],
          [
           592
          ],
          [
           593
          ],
          [
           594
          ],
          [
           595
          ],
          [
           596
          ],
          [
           597
          ],
          [
           598
          ],
          [
           599
          ],
          [
           600
          ],
          [
           601
          ],
          [
           602
          ],
          [
           603
          ],
          [
           604
          ],
          [
           605
          ],
          [
           606
          ],
          [
           607
          ],
          [
           608
          ],
          [
           609
          ],
          [
           610
          ],
          [
           611
          ],
          [
           612
          ],
          [
           613
          ],
          [
           614
          ],
          [
           615
          ],
          [
           616
          ],
          [
           617
          ],
          [
           618
          ],
          [
           619
          ],
          [
           620
          ],
          [
           621
          ],
          [
           622
          ],
          [
           623
          ],
          [
           624
          ],
          [
           625
          ],
          [
           626
          ],
          [
           627
          ],
          [
           628
          ],
          [
           629
          ],
          [
           630
          ],
          [
           631
          ],
          [
           632
          ],
          [
           633
          ],
          [
           634
          ],
          [
           635
          ],
          [
           636
          ],
          [
           637
          ],
          [
           638
          ],
          [
           639
          ],
          [
           640
          ],
          [
           641
          ],
          [
           642
          ],
          [
           643
          ],
          [
           644
          ],
          [
           645
          ],
          [
           646
          ],
          [
           647
          ],
          [
           648
          ],
          [
           649
          ],
          [
           650
          ],
          [
           651
          ],
          [
           652
          ],
          [
           653
          ],
          [
           654
          ],
          [
           655
          ],
          [
           656
          ],
          [
           657
          ],
          [
           658
          ],
          [
           659
          ],
          [
           660
          ],
          [
           661
          ],
          [
           662
          ],
          [
           663
          ],
          [
           664
          ],
          [
           665
          ],
          [
           666
          ],
          [
           667
          ],
          [
           668
          ],
          [
           669
          ],
          [
           670
          ],
          [
           671
          ],
          [
           672
          ],
          [
           673
          ],
          [
           674
          ],
          [
           675
          ],
          [
           676
          ],
          [
           677
          ],
          [
           678
          ],
          [
           679
          ],
          [
           680
          ],
          [
           681
          ],
          [
           682
          ],
          [
           683
          ],
          [
           684
          ],
          [
           685
          ],
          [
           686
          ],
          [
           687
          ],
          [
           688
          ],
          [
           689
          ],
          [
           690
          ],
          [
           691
          ],
          [
           692
          ],
          [
           693
          ],
          [
           694
          ],
          [
           695
          ],
          [
           696
          ],
          [
           697
          ],
          [
           698
          ],
          [
           699
          ],
          [
           700
          ],
          [
           701
          ],
          [
           702
          ],
          [
           703
          ],
          [
           704
          ],
          [
           705
          ],
          [
           706
          ],
          [
           707
          ],
          [
           708
          ],
          [
           709
          ],
          [
           710
          ],
          [
           711
          ],
          [
           712
          ],
          [
           713
          ],
          [
           714
          ],
          [
           715
          ],
          [
           716
          ],
          [
           717
          ],
          [
           718
          ],
          [
           719
          ],
          [
           720
          ],
          [
           721
          ],
          [
           722
          ],
          [
           723
          ]
         ],
         "hovertemplate": "pca1=%{x}<br>pca2=%{y}<br>index=%{customdata[0]}<extra></extra>",
         "legendgroup": "",
         "marker": {
          "color": "#636efa",
          "symbol": "circle"
         },
         "mode": "markers",
         "name": "",
         "orientation": "v",
         "showlegend": false,
         "type": "scatter",
         "x": [
          -0.3255290368222715,
          -0.5924050515564191,
          -0.18649678547536808,
          0.35134558972114416,
          -0.45543521176173385,
          -0.012985815998839745,
          0.6337301905881205,
          0.7826131142029913,
          0.7154464529334172,
          -0.30541911697926416,
          -0.19375082518382036,
          0.3426582927053292,
          0.634307397394245,
          0.9029831330351474,
          0.6423255760779225,
          0.4369954382680692,
          0.37749326970148256,
          0.543379324242484,
          0.6878481346640068,
          0.07201285813808278,
          -0.24759796933567513,
          0.06808600728083714,
          0.6522859892334039,
          0.4589309183701855,
          0.24255534579838978,
          -0.5611134192166018,
          -0.14363065904619265,
          -0.31185430866733466,
          -0.038088362887414906,
          0.17988531734999746,
          -0.28407210825356266,
          -0.3472390175210668,
          -0.6314456551772437,
          -0.6321048261256165,
          -0.5458182476402106,
          -0.24481175684523682,
          -0.4022245891551782,
          -0.4534814514536391,
          -0.21721757496079086,
          -0.4628755557258849,
          -0.12708485560060045,
          0.18530990904056543,
          0.18619901693092689,
          0.2568046754140261,
          0.10774265524120019,
          0.11460632687010319,
          0.7571572643835054,
          0.4986741421351031,
          -0.5221078267272393,
          -0.13322723146531623,
          0.13355073876481005,
          0.48790353327646097,
          0.5408396069670536,
          -0.29640745707503213,
          -0.030240654003327982,
          -0.0609934168253361,
          -0.009543364974493374,
          0.5099291478756025,
          0.557299430108684,
          0.32193828930660584,
          -0.31234369497038095,
          -0.5202181424117575,
          -0.5047121680879215,
          0.6755810256678689,
          0.6933700452799705,
          0.6270692405514606,
          0.4694817230911261,
          -0.2760265411279307,
          -0.5799500979706635,
          -0.6210971561483483,
          -0.14201378076771654,
          -0.1439391417254483,
          -0.5875702277633553,
          0.37347478098980735,
          -0.46429944057750994,
          -0.11453534507719776,
          -0.22326713687072341,
          -0.5996601332594396,
          -0.5364303510800781,
          -0.16865765901767016,
          0.14523777502127433,
          -0.45818157684007876,
          0.3396949636566513,
          0.8893273140795941,
          0.8261706191782658,
          0.26683798374749257,
          -0.5985593846901313,
          0.3292592501727838,
          0.3274491708798757,
          0.21778793459973422,
          -0.4026322442427377,
          -0.4681167596144416,
          -0.4500698128984698,
          0.0930943090892733,
          0.8144816245814106,
          0.5052584666508695,
          0.30909175145349677,
          -0.13015061037034426,
          -0.3121822997877647,
          0.5916869102192988,
          0.37105184934324176,
          -0.6052046975878863,
          -0.507385914777772,
          -0.03163587322721806,
          0.8308289239877356,
          0.8191386143955675,
          0.8112929730853484,
          0.76778870264925,
          0.574550036067359,
          0.1763901248583657,
          -0.24053550076306762,
          -0.32229196989809394,
          -0.2780455103642093,
          -0.18516600255610927,
          -0.5677518514115776,
          0.38132447646454093,
          -0.007250480591450614,
          0.033279379386633834,
          0.7038914626220376,
          0.8745433289691746,
          0.056953738797027476,
          -0.28853027648416385,
          0.30729699396743504,
          0.5169659204173909,
          0.2893591424575328,
          0.34807315090805147,
          0.20642260846903615,
          0.3315159240815315,
          0.5258359154549066,
          0.9480427959240043,
          0.8462211145141325,
          0.5341665247265197,
          -0.3337661819619844,
          -0.5758578137062856,
          0.4706838148339436,
          0.32394951226150925,
          -0.501569833431051,
          -0.5287769971780469,
          -0.5468907270500725,
          -0.042451111479244186,
          0.229325396244364,
          0.035435575395312835,
          -0.3688233374333381,
          0.13893272311460325,
          -0.17287111950614786,
          -0.0897581651117263,
          -0.24090238714949386,
          -0.47911872664380417,
          -0.21607343956414515,
          -0.11326681405629468,
          0.5266848192741516,
          -0.2550637465081045,
          -0.21754394408046251,
          0.014620719662848725,
          0.22570628025112915,
          -0.2693031431049001,
          0.16860071694063627,
          0.46705060877864657,
          -0.24992912593008765,
          -0.6491033100890915,
          -0.006647915307463781,
          -0.6232837521877013,
          0.19232257563999422,
          -0.45237307720208253,
          0.30154589078660754,
          0.36197325077850073,
          -0.29496113906965016,
          -0.3899279077624239,
          -0.35217757799828253,
          0.15416895547543463,
          -0.3296392408611487,
          -0.462267051093145,
          0.18560790174117847,
          -0.10615838455015725,
          -0.47355840948495037,
          -0.5025471095593415,
          -0.3827867364114489,
          -0.5220708476092331,
          0.6182319409200425,
          -0.44505032618879203,
          -0.04350517340083149,
          0.4264342578517766,
          0.525603333279816,
          0.35827153149940294,
          -0.5438977875657978,
          0.32686506674396343,
          -0.022799260320232162,
          -0.5471265197399446,
          -0.6212404431221339,
          -0.5482556592687546,
          -0.39082869864659653,
          -0.3965890627898694,
          0.7861849286495619,
          0.5514619977832957,
          0.015955850602920818,
          0.2066263704976885,
          0.21291439236578902,
          0.3233511109584988,
          -0.14060277554572698,
          -0.44144888364347856,
          -0.38463701273243694,
          0.08798066106567926,
          -0.008334022780400852,
          -0.35921012488120907,
          -0.06584626459025966,
          -0.6166979869020617,
          0.07226223491462369,
          -0.1548956819636127,
          -0.21676521339733956,
          -0.27833848711762577,
          -0.46651221277840005,
          -0.20787476473993083,
          -0.43672793443539787,
          0.2953162421970301,
          -0.3262830097007202,
          -0.37162245375080194,
          -0.47381950752084245,
          -0.4025365267011969,
          -0.32237235950612797,
          -0.5250796821452115,
          0.5960456274585226,
          -0.07311588656200985,
          -0.3379080276706805,
          -0.35405541582796046,
          -0.3071338559379353,
          0.04158390449843097,
          -0.5112640460004099,
          0.49856154933102337,
          -0.13535533359496688,
          -0.5189962791110871,
          -0.5489322260326505,
          -0.26599775215144683,
          0.26126672788842775,
          -0.37721882871256035,
          0.5191060657421471,
          0.0824390182031034,
          -0.14183109180525466,
          -0.4056465085144736,
          -0.1700360121758676,
          0.20677176477679704,
          -0.31179391708914583,
          0.5969944731471886,
          -0.3078543474985327,
          -0.17938700835004995,
          -0.05660359529251402,
          0.043827152171783124,
          0.2556767044538255,
          -0.4873393294819574,
          0.12507816522456427,
          -0.37922574313491786,
          -0.2980385740530551,
          -0.16396524686210678,
          0.02150211854387163,
          0.1542718616097596,
          -0.5602446234340568,
          0.3530419452241593,
          -0.4371980787768198,
          -0.14058234426753813,
          0.11505851663919009,
          0.10148648860117482,
          0.06197213521223133,
          -0.5367058817972944,
          0.18987703273454648,
          -0.4848264547226075,
          -0.5265438537654263,
          -0.32576529911092234,
          -0.17928843149903861,
          -0.2010173523213118,
          -0.4500340882982712,
          0.6692772454614431,
          -0.1759060033695874,
          -0.5779414417662916,
          -0.47104867856553373,
          -0.1897289365263004,
          -0.082249506252565,
          -0.5981014838086836,
          0.2797747623589031,
          0.07955054986649146,
          -0.39247759084597567,
          -0.2402995222985348,
          0.152447635107809,
          0.8324243591912786,
          0.3365706822131629,
          -0.045166806688237915,
          -0.26167454734681106,
          -0.042615908053313056,
          -0.05691728257892725,
          -0.13439907467527656,
          0.031400956254556966,
          -0.5446452185470425,
          -0.364125639399274,
          0.163294658283625,
          0.5558226640581654,
          0.536296409621134,
          0.5239911845802152,
          0.6021583979448109,
          -0.08616698893682384,
          -0.5707582501352659,
          -0.47941113007943614,
          -0.4507561356402173,
          -0.5066794554465499,
          -0.4209342132768827,
          -0.20767528785234746,
          -0.5926716765271862,
          -0.05021255033410377,
          0.012304063385148334,
          -0.05732191687674704,
          -0.08073425526722833,
          -0.24584605844147478,
          0.14846405769558135,
          0.537141990205622,
          0.9665127312345201,
          -0.4484789996539942,
          -0.5194397509192088,
          -0.0760171181134719,
          0.5303363547801185,
          0.4790519987351245,
          -0.34598985176712593,
          0.0915700813729069,
          -0.4880666101092101,
          -0.14689644664024037,
          0.056098732416742125,
          0.4730237821539722,
          0.6615974006679723,
          0.4669684928113338,
          0.6606188292052686,
          0.5287959930224735,
          0.4416019161387057,
          -0.3295835517158232,
          -0.44319186207700056,
          0.02139096829115772,
          0.506829470603783,
          0.9227482206608284,
          0.6111607858252881,
          -0.4824927724292199,
          -0.5959541316082209,
          -0.22917560810394788,
          0.13800067161394847,
          -0.42949457106827055,
          -0.12734524149791104,
          0.5277598943914699,
          0.08320364500011612,
          -0.5764187784359277,
          -0.5330050316793281,
          -0.26688771397709155,
          -0.5758424261239904,
          -0.5680448055250648,
          -0.3734467840726454,
          -0.04167832391481763,
          0.5205685140047271,
          0.8281082484485793,
          0.6323003279350328,
          -0.3074267300133976,
          -0.050512936278646725,
          0.022874819425359072,
          -0.5334848769970708,
          -0.5323968537935593,
          -0.4358696718048078,
          -0.4748927112347071,
          -0.321099812188147,
          0.28028173250323607,
          0.11992987798185573,
          -0.2870393837905848,
          -0.19193769074844202,
          0.8119506689953011,
          0.9253437478893565,
          0.07016572200198512,
          -0.5461535748222349,
          -0.3096477598327221,
          0.2661577140870244,
          -0.5091488516363837,
          -0.14767613525314904,
          0.828461394481335,
          0.831239308802618,
          -0.10067739945278809,
          -0.5010520930029576,
          -0.3210254407101475,
          0.507179013227282,
          0.6809622938186883,
          0.453544759163115,
          0.19193320860666252,
          0.5490506429337654,
          0.6069441136642779,
          0.6102460686232889,
          0.6679893569530697,
          0.6122231429964113,
          0.31602283414010013,
          -0.16794959592492054,
          -0.5500830895867845,
          0.5018114344275642,
          0.4095874681808067,
          0.21644389987447155,
          0.22604850261226406,
          -0.03389551215858666,
          -0.3640298832594678,
          -0.16151034111083407,
          -0.5368322655310032,
          -0.5243638580134036,
          -0.06672295285058405,
          0.23240947902034215,
          0.5321521389311241,
          -0.2533431430017654,
          -0.48011738840740614,
          -0.5090661147025006,
          0.07301477523224387,
          0.6465430225357192,
          0.6542292086439114,
          0.32161339033553626,
          -0.4613300247911739,
          -0.40556868456537293,
          -0.6002966517919235,
          -0.5896263829843278,
          -0.01160074504895725,
          0.6445355082816051,
          0.4272322057267417,
          -0.44332143127970886,
          0.01886782270543408,
          -0.04688984253130102,
          -0.45141063980978835,
          -0.6140576128097257,
          -0.48927533051256517,
          -0.3168495184048111,
          -0.4008655217125105,
          0.4484471932139029,
          -0.17777855416338006,
          -0.3120000244169243,
          0.04194702527194338,
          -0.5642748823777679,
          -0.45464580504407304,
          0.10981215343274608,
          0.7770437368159537,
          0.5349376890686168,
          0.035454124215217764,
          -0.28338146584714485,
          -0.3441816865922711,
          -0.3601096041984637,
          -0.18205719694602895,
          0.6335679014398881,
          0.4140249854212792,
          0.02287514034181637,
          -0.3257280347618948,
          0.3467936096439599,
          0.26685169176880175,
          -0.521360786322844,
          -0.4491144915034388,
          -0.2429654086445382,
          -0.14708596205262425,
          -0.41024918792936893,
          -0.11181536047877927,
          0.7968534586859153,
          0.5983821201430004,
          -0.09808854435004288,
          0.19999529875253663,
          0.38258116256328223,
          0.44688952929695347,
          0.26750050033842965,
          -0.1063610016977452,
          -0.6056318361714974,
          -0.14025535730493244,
          -0.16576830092581074,
          -0.3868219763332019,
          -0.6389224637141699,
          -0.5255033850430367,
          -0.3759749296318039,
          0.11108037126876458,
          0.34408263919746096,
          -0.07994512494719797,
          0.046745716801809944,
          -0.06551445058834082,
          0.13025559566638334,
          0.43248847071247054,
          0.5389127558341207,
          0.07710818402072939,
          -0.28556022545120496,
          0.11839100180039153,
          -0.33679597770801084,
          -0.5467255240608431,
          -0.45835550859896684,
          -0.09980162370203471,
          -0.001393691227681626,
          -0.5856709646725142,
          -0.03399286895758369,
          -0.23338258168691328,
          -0.4794677655409029,
          0.33341686848351193,
          0.6279422567465112,
          0.5488098553378007,
          -0.2737545092958127,
          -0.3454888820126668,
          0.36544192296023525,
          0.7967250958305205,
          0.35393593233813236,
          -0.5414264330444277,
          0.10747599726958412,
          0.5892129231408241,
          0.8565216828053137,
          0.9007030192745265,
          0.9057235057053801,
          0.954913494372684,
          0.8828734548908566,
          0.4398764129480861,
          0.11624543259230846,
          -0.2949123307645509,
          0.41724445057795156,
          0.6913079427791182,
          0.43552567191044766,
          -0.0828434715283396,
          0.09129250290630153,
          -0.32839851948753795,
          -0.47576656828852054,
          -0.3084656568585322,
          0.4825662820181371,
          0.9837108794559082,
          0.9288232308023638,
          0.6758500532448048,
          0.5163182822004992,
          0.21720612191936373,
          -0.3576891685155306,
          -0.4516262265542363,
          0.004858847233736419,
          0.19364643201884957,
          0.7027375942967915,
          -0.33913869281290443,
          -0.5992875419869506,
          -0.579451544279912,
          -0.5378258418043849,
          0.21454978853821327,
          0.5710543576852443,
          0.9389224754327412,
          0.6323136001602065,
          0.20216408774883665,
          -0.25546803911523575,
          0.06079499258935506,
          0.24072848407981584,
          -0.34478437143792307,
          -0.16132207066277915,
          0.08112343811797929,
          0.4871110420665672,
          0.6536050985682027,
          0.35685435373704766,
          0.5553492825768651,
          -0.5802538198585798,
          0.13611011446227284,
          0.4208003823043367,
          0.39222185555601663,
          0.09058906108577836,
          0.29998870763966123,
          -0.08589063897929872,
          0.18292437393120542,
          0.5729964540058454,
          0.3299635411894215,
          -0.2762164811977862,
          -0.5039097083041161,
          -0.32385907912702305,
          0.05593443353523919,
          -0.48090026380356865,
          0.18970335155531926,
          -0.17407413869668842,
          -0.5796326781630309,
          -0.6169822115947571,
          -0.14009070116573263,
          0.33795418851973213,
          -0.34573783050906925,
          0.39205166944624503,
          -0.26016594119081793,
          -0.5301569673706625,
          -0.4252084357228719,
          -0.12862517963355813,
          0.31846459133377847,
          -0.45202553503586657,
          -0.0947591715570062,
          -0.5956298216400882,
          -0.44121964412964954,
          -0.021943604904101188,
          0.42683866401570314,
          0.5277901559812159,
          -0.5008594456290556,
          0.10528838733571788,
          0.32897431144707334,
          0.41312173279895825,
          0.2880239497426149,
          0.10633099442062588,
          -0.3800785531799887,
          -0.19279795761743712,
          0.5831288566883017,
          -0.2950266704905633,
          -0.35359137298485416,
          -0.2592186656357395,
          -0.4017909720660868,
          -0.34752066634637646,
          0.24938874093992114,
          0.9649967022836885,
          0.34962717021642886,
          -0.27131452534103895,
          -0.5665391250433789,
          -0.4187495429506992,
          -0.34149865101581034,
          -0.1313274410231452,
          0.9292940944021038,
          -0.30535361841176756,
          -0.5605648286190619,
          -0.03510177953987226,
          0.3260800348724713,
          0.4809893656111177,
          -0.13837867994100816,
          0.7142759303840169,
          -0.3132681617469192,
          -0.17739497360520673,
          -0.01440375788980186,
          0.25174226999625016,
          0.4110230250860216,
          -0.37114801256099295,
          0.5572906664486419,
          0.03186779706719656,
          -0.37610718552855354,
          -0.45221035658542974,
          -0.3954834682232042,
          -0.03021437420830464,
          -0.6181257978842716,
          0.3879177791384534,
          -0.1427144393008709,
          -0.4910089663822145,
          -0.13582965127978164,
          0.37336027509055647,
          0.47839153861117456,
          -0.45831474995408095,
          -0.06106116028279007,
          0.06709155822714863,
          -0.15143708020298663,
          -0.2604832919406964,
          -0.3140121580717675,
          0.006485992680851482,
          -0.6340386028287411,
          0.4247159248015624,
          -0.3431340927942499,
          -0.15866447770663283,
          0.19528524939322178,
          0.5754313038111623,
          0.6353683432141501,
          -0.12611040621731306,
          -0.5912737813021333,
          -0.3170600313060461,
          -0.01577405857819203,
          0.028133395811618556,
          -0.5145825989873767,
          0.0836366216486022,
          -0.10242061039428596,
          -0.3429047246590823,
          0.35550370244401663,
          0.556473737646979,
          0.6571214018838099,
          0.6604142477694057,
          0.3246126525950257,
          -0.5406390211810355,
          0.07911873255221713,
          0.2015699285834336,
          -0.21967112579790649,
          -0.5141219035199183,
          -0.5815280818234889,
          -0.058123467060192,
          -0.4599063202935936,
          0.2591561837484344,
          -0.5027377211092114,
          -0.022597832389384953,
          0.17703928871797303,
          0.38816357667638446,
          0.4480493493601321,
          0.11637422483592841,
          -0.4294085066220268,
          -0.535564283995246,
          0.5521711683406376,
          -0.12909195713476795,
          -0.5254465576191981,
          -0.11682197908434777,
          0.24528943748693277,
          0.5543467442255803,
          -0.580087766847481,
          -0.05784666891996204,
          -0.1312696002080983,
          -0.22526386713181246,
          -0.41976184699247426,
          -0.4887450871802863,
          0.6559285153748244,
          -0.26160166033907195,
          -0.6037188342899916,
          -0.4473221153851155,
          -0.1914328101085766,
          -0.0028098366661410967,
          -0.39623176987426945,
          -0.46421608061784186,
          0.47989742967692206,
          0.756889622515843,
          0.6581287847669473,
          0.26244816130057136,
          -0.04490877710714969,
          -0.6307562591126372,
          -0.3492973694894477,
          0.08725493794647288,
          0.579980383108855,
          0.7648724830407931,
          0.7515555161223249,
          0.629013077514726,
          0.2391492116323164,
          -0.3708866135882457,
          -0.19190082114022622,
          -0.27652166849032445,
          -0.49455875561223145,
          -0.45126810436349823,
          -0.44649753307224566,
          -0.2542205500214326,
          0.37532186338032614,
          0.09678321124996503,
          -0.057402237634204156,
          -0.20553381629310874,
          -0.33691247285916226,
          -0.4316329899587697,
          -0.4245217577636641,
          0.325330382241215,
          -0.2822605187130066,
          -0.4237986627431288,
          -0.26891821533119564,
          0.6660554110115986,
          0.915598051618415,
          0.5005065159520001
         ],
         "xaxis": "x",
         "y": [
          -0.21051803871184308,
          -0.18521040061417296,
          -0.4274157735621097,
          -0.5682263609639018,
          0.10726288700298875,
          -0.008642646442216045,
          0.008759055854721892,
          -0.012536500962769509,
          -0.0818173382149992,
          -0.36499042445872437,
          -0.35776984708375037,
          -0.2560811150328602,
          -0.12373797290728748,
          0.06189011103091646,
          0.05622106725108561,
          -0.12321114408701563,
          -0.19606755122302846,
          -0.41022370491141386,
          0.011711456470860304,
          0.3197406991060464,
          0.5162270116791184,
          0.44690482840616197,
          0.0629453291794913,
          0.044746164035243896,
          -0.1869374644051336,
          -0.13794633531399417,
          0.17646674727243966,
          -0.0403464546500219,
          -0.20310795941057863,
          -0.5616836416974742,
          -0.30743248985427657,
          -0.17069735831689686,
          -0.15324079099749427,
          -0.1963010658592586,
          0.03352097164193063,
          0.2726299602587056,
          -0.08566626705943392,
          -0.29840283264467604,
          -0.18335852548441914,
          -0.2865999888135867,
          -0.3015876899165351,
          -0.5245677661347151,
          -0.5356089111216036,
          -0.45470175290351045,
          -0.21569512073568078,
          0.42436883232280553,
          0.20449682075650877,
          -0.49134409548693775,
          0.02057322648061441,
          0.22102458551793502,
          0.11418834404540396,
          -0.1179704860344332,
          -0.35894801830868717,
          -0.36842757301816925,
          0.4119261516184787,
          -0.1682437661797041,
          -0.31317891732280073,
          -0.2765375519905602,
          0.016758477703483626,
          0.06343857104664286,
          -0.26113507919541995,
          -0.24099786601394405,
          -0.09445651020640253,
          0.062462408710114936,
          0.06879790299206001,
          -0.06133260467194626,
          -0.3827020009424621,
          -0.0954852046958049,
          -0.18497946943489174,
          -0.1616849946781648,
          -0.3546739402230149,
          -0.2698203193818578,
          -0.07984444856000605,
          -0.4825199213832134,
          0.2986833044356826,
          0.49552701757872364,
          -0.0354967852917768,
          -0.1627035966468758,
          0.03049771278653135,
          -0.011736712548822498,
          -0.4341375697029449,
          0.06891456521429778,
          0.34564979793930606,
          0.2347719747826678,
          0.2104830071722098,
          -0.09631774212122557,
          -0.16401720387806618,
          -0.047481655139616386,
          0.20765760676213796,
          0.17466533315045613,
          0.1997400782915184,
          0.23946066582230052,
          0.25600319106860386,
          0.34617616835460807,
          -0.023874866992713767,
          -0.005722567344613488,
          -0.18625551451413536,
          0.0004842719417513519,
          0.3089126711357175,
          0.18357923023643963,
          0.06906340058664867,
          -0.14292859450012138,
          -0.08390785044157173,
          0.12523346847088085,
          0.18606874094362374,
          0.12618637898395074,
          0.04104559522765411,
          0.20700977286258837,
          -0.5861830212259628,
          -0.22704235367743478,
          0.36598477867351487,
          0.5315683627671485,
          0.4332236354943001,
          0.20285695773137813,
          -0.03267594937727766,
          0.23595786993102713,
          0.5217931365191059,
          0.5197221326285729,
          0.18961965228565097,
          0.17974715811804903,
          0.5190271852542069,
          0.5448321178385458,
          0.24398008653668962,
          -0.13949554576785633,
          -0.056944717845589105,
          0.3680552770237647,
          0.31108303530857984,
          0.37601755882688825,
          0.34820212664238626,
          0.18726361937090164,
          0.14423111489192936,
          0.0788101495022327,
          -0.1898656934003595,
          -0.033542343125229496,
          -0.3772005524661572,
          -0.07567399380682643,
          0.20768301682079304,
          0.1503017747047819,
          -0.003072240825220396,
          0.09225250526400253,
          -0.19344617674392028,
          -0.22479193818769974,
          0.4518298240686405,
          0.20800609413128174,
          -0.05926698618419354,
          -0.060241217960541216,
          0.25800847037101793,
          0.3552121369616589,
          0.42232365361627455,
          0.4674679048606635,
          -0.14876501814462334,
          -0.060946274688688906,
          0.006525049401526151,
          0.20841363560460063,
          0.16663235248101238,
          -0.29524493765361154,
          -0.3803850636568979,
          -0.5868343655734639,
          -0.3152082659132117,
          -0.1505228739198635,
          -0.39390715642977847,
          -0.1629079847132342,
          -0.03207536450828111,
          0.3202455752871832,
          -0.4646719659764803,
          -0.4843123884176281,
          0.12277143080732295,
          -0.007736922364403986,
          -0.23868192777353447,
          -0.48319237302493845,
          0.03234190985849017,
          -0.16807071642855131,
          0.23546720540235355,
          0.0982309691417318,
          0.18007354910775392,
          0.2657478645616449,
          0.0023114454687389874,
          -0.1799440547653745,
          -0.2911329403350482,
          0.2832149581322645,
          0.46426390869970435,
          0.32133280622028404,
          0.06214763263120071,
          -0.2495588978262464,
          -0.08006988924975716,
          0.19414086655766777,
          0.09363509058552827,
          -0.20955922256264803,
          -0.17035159788081522,
          -0.15386778471860413,
          -0.17059777282851332,
          0.15989046111443156,
          -0.07191295187345034,
          -0.14538194879693572,
          -0.4296622895867339,
          0.29334712045576083,
          0.3919425077159949,
          0.37280057828800084,
          0.4396446302527982,
          -0.026611140785468834,
          -0.11002889015246049,
          0.0994260837729895,
          0.4681455978421024,
          0.2561728401402404,
          -0.40234173683296554,
          -0.11500794015486318,
          -0.44637861226038833,
          -0.2316115676918647,
          -0.25221996426437565,
          0.03998575724444742,
          0.14573392879202762,
          -0.3495780493509183,
          0.27795847698766996,
          -0.46565273308614424,
          -0.33316384113323594,
          -0.1798560659210437,
          0.14198211477188172,
          0.44945048253138997,
          0.14775572524773944,
          -0.16298866232085998,
          -0.5103183033379386,
          -0.22286148921913232,
          0.1553778283428875,
          0.4959910404512402,
          -0.1005220994416543,
          -0.4040291776731544,
          0.0980307957419746,
          -0.005221846005086794,
          0.26858315424686335,
          -0.016830624838171965,
          -0.16131659175608187,
          -0.3160483769204771,
          -0.11821812524379915,
          0.3636287383484659,
          0.031552857110844934,
          0.13583681619132243,
          0.1662836199257941,
          -0.25886220989078185,
          0.32565236065976033,
          0.29838080735232453,
          0.5035790996037328,
          0.30488643542288474,
          0.6084257432240167,
          0.12456376949440573,
          -0.3453822873977994,
          -0.35565379846827744,
          -0.5115735671544122,
          -0.22876261953275256,
          -0.20874615346395314,
          0.49163929194075073,
          0.3523261862007987,
          -0.28976636424703694,
          0.0014673642859629743,
          0.05906692180929246,
          0.005540549718052679,
          -0.5443125255237737,
          0.3494641773916084,
          0.4809301221906047,
          0.1925048199081017,
          -0.39719401176820224,
          -0.4001874445556086,
          -0.19782841632322282,
          -0.48854909071820063,
          0.021463789356473417,
          -0.1802977653906419,
          -0.0946644782733719,
          -0.04723815850203936,
          0.027085060707390363,
          0.06201519874857264,
          -0.3185943809293148,
          -0.20621889774405697,
          -0.12577290528115898,
          -0.21673482536079003,
          -0.29666416905197146,
          -0.34987384128763654,
          -0.09417375463889499,
          -0.22083108404123986,
          -0.0999583137827647,
          -0.21896416019642784,
          0.48160931443632504,
          0.47494669007081847,
          0.20509082859626976,
          0.3874398476579506,
          0.2510581405263815,
          -0.14844093220690463,
          -0.0836102886550398,
          0.17294205218487224,
          0.3803407759977334,
          -0.25775263142413063,
          -0.1223562118215021,
          0.25314452593127074,
          0.35500223005224185,
          0.1324346802278708,
          -0.13360453263680827,
          -0.35536492405490216,
          -0.4138863909446707,
          -0.4118906995631334,
          -0.20864503395991002,
          0.2052815450554899,
          0.28386127744095424,
          0.1428404468676167,
          -0.13627375917718637,
          -0.3258942147497089,
          -0.21325963328412592,
          -0.39834255611273006,
          -0.06809710574919534,
          -0.046280087722402885,
          0.10071266082701413,
          0.28876983802468337,
          0.4658424051875444,
          0.34979149767710804,
          0.17538391662505326,
          -0.2468646346932372,
          -0.1365233810263194,
          -0.038412217017354894,
          0.02823269746391749,
          -0.02031738685403492,
          0.05421977131209249,
          -0.4387973750131935,
          0.1347789323578928,
          0.35388909940624436,
          0.15595659735964018,
          0.22618601854397646,
          0.1842228141583408,
          0.27804716237555815,
          0.210108661569526,
          0.2355905386558741,
          -0.2337480801744619,
          -0.2404466119026199,
          0.1907114757089461,
          0.4321298972600466,
          0.02259726983891905,
          -0.10250495951874374,
          -0.1596242276786956,
          -0.25465256219655774,
          -0.18414565935260716,
          -0.3405439110772997,
          -0.4608451040239458,
          -0.12435260927302659,
          -0.1459730567608668,
          0.04266122985706,
          -0.44088228483010683,
          -0.10055245772219956,
          -0.22135852997061053,
          -0.33523400750835547,
          -0.2118406461414716,
          -0.20277888831210725,
          -0.12304234434022437,
          0.09498650923700314,
          0.2382290828973801,
          0.1131117699742255,
          -0.08825871600200491,
          -0.1207284968208804,
          0.08932646888985257,
          0.08452429576381004,
          -0.19462618991405398,
          -0.14784567262288328,
          -0.28609941507442227,
          -0.042978941823627714,
          0.018383677659610548,
          -0.13616510731164627,
          -0.23938764912180993,
          -0.3411275027088669,
          0.3105953099212081,
          0.21161715869484826,
          0.0915901757153671,
          0.0823454728166263,
          -0.1402330631997467,
          -0.31106388422324516,
          -0.3268560094822742,
          -0.1949807041858471,
          0.0851006336817759,
          0.06756419118861867,
          0.023862906109645643,
          -0.22860699136761323,
          -0.2711157362594575,
          0.1483587162443148,
          0.11947390908382521,
          0.09388035502587166,
          -0.17527249404289744,
          -0.5705018890506827,
          -0.6777530304613624,
          -0.697329209900879,
          -0.5689548822006368,
          -0.41978430859213534,
          0.011975895351265059,
          0.11663701276589611,
          0.00280871651448375,
          -0.12716372198509304,
          -0.2691944269229785,
          -0.0870454908132513,
          -0.1250809094104812,
          -0.5684809860002764,
          0.011914932774559961,
          0.39444273205302594,
          -0.005942720678018043,
          -0.23148371759335293,
          -0.17113668693928516,
          0.37707103301665856,
          -0.18415758576468522,
          -0.409375382912928,
          -0.23835670552680982,
          -0.2403455332343722,
          -0.1133502673133492,
          0.05618850254764357,
          0.29172856046822326,
          0.046578454324073926,
          -0.32210749774307584,
          -0.2532756926276068,
          -0.31499932690136245,
          -0.22702351123114356,
          -0.18458537450202875,
          0.2125279099184183,
          0.06428045899512835,
          -0.2499468575814677,
          -0.17949026140050192,
          0.03301752265607838,
          0.050559805487548015,
          -0.22551767003984716,
          -0.1662791565578702,
          -0.10068755710553647,
          -0.13742050195651284,
          -0.006994413342828382,
          -0.6498320465169718,
          -0.27974864770285685,
          0.5192174971862243,
          0.17101407193776708,
          -0.23468708338693753,
          0.12849893849280125,
          0.2797020088818394,
          0.029636359851580363,
          0.05459823476049658,
          0.02491216069816307,
          0.23460077646661065,
          0.4135433591098664,
          0.3476754396110501,
          0.08443695474557122,
          -0.6464091615019003,
          -0.5981665206881579,
          -0.0672935963071584,
          0.4024673165618904,
          -0.16159737980183644,
          -0.575189796871783,
          -0.04076414467926284,
          -0.1331689055539262,
          0.2822259788021596,
          0.3700490123119329,
          0.23205561012554649,
          -0.22941640382700837,
          0.01920178091951852,
          0.13026976122536305,
          0.4812005980880152,
          0.3749782135150376,
          0.3241107299154663,
          0.29734929285474276,
          0.009060219020475518,
          -0.21067247928009866,
          -0.16412381014447014,
          -0.2365533247214206,
          0.021942488026800572,
          -0.11175892221086164,
          -0.14079577589740613,
          0.08697019503315195,
          0.26296952798843565,
          -0.15806433845123014,
          -0.344338815480496,
          -0.12418816997261041,
          -0.0685706839940815,
          0.1924359648189639,
          0.5349322792797198,
          0.409718026213328,
          0.05186667113362137,
          -0.3521182549538785,
          -0.081110776597977,
          0.05623648042916812,
          -0.26187266646147755,
          -0.01910420901914614,
          0.09260787263871328,
          -0.20026547636380598,
          -0.4886016522910072,
          -0.14662521806271656,
          0.0777849752723761,
          -0.056998854323613984,
          -0.21740321971205404,
          0.1685291244776721,
          -0.17277633972717815,
          -0.5188311206595668,
          -0.3021933657086068,
          0.33925326956143653,
          0.22067252774673007,
          0.13433243070664802,
          -0.08286239102343523,
          0.02306816477708959,
          -0.21730907409561093,
          0.11811022606141208,
          0.216260094402274,
          0.18994945525431844,
          0.22857587246104993,
          0.24389745761535242,
          0.23696208700424226,
          -0.14975346222183866,
          0.1603840428404366,
          0.3835986432109132,
          0.12993651668334577,
          -0.08691863026541435,
          0.22852805892533473,
          0.42595546954077756,
          0.40145224925350675,
          -0.26847724118790556,
          0.13989461683068943,
          0.4038717179831166,
          0.3363397965335826,
          0.21568568601993643,
          0.19440946784886992,
          0.21012567049432873,
          -0.06274689737622746,
          -0.15528990636397538,
          -0.10628181608347734,
          0.5247202578821769,
          0.45115761389499065,
          0.13263796815149792,
          -0.36676305724307123,
          -0.20414764392164383,
          -0.14721005623731362,
          -0.06982825725568947,
          0.10161277987698542,
          0.4563796031957672,
          0.3818744331035745,
          0.11256659998607393,
          0.1705189660483744,
          0.3160261551313013,
          0.45426456847807195,
          -0.3898415709785472,
          -0.349231874393177,
          0.14362609088430994,
          0.46864725659900786,
          0.5623966592060765,
          0.3655697661652779,
          0.21262570938235847,
          0.260455473125399,
          0.23870685957231697,
          -0.13138562877532164,
          0.051777273632352905,
          0.22463944105940536,
          0.349459295487919,
          0.498658890312792,
          0.4243906091400186,
          0.0426840201390854,
          -0.05458358434145971,
          -0.6190783393031029,
          -0.4893544031369019,
          -0.14195980845305256,
          0.08605700528117127,
          -0.3206255847019785,
          -0.445312143698992,
          0.0699738139794972,
          0.4651189742219036,
          -0.2837220446803142,
          -0.20837076675927343,
          -0.12609582373432854,
          0.024971962544040216,
          -0.05348130399663131,
          0.2983461935134224,
          -0.12072586622222396,
          0.13186411774482848,
          0.14865982543662182,
          -0.05229279535148426,
          -0.34758068729895863,
          -0.520207739428738,
          -0.1522992551606196,
          -0.39640290407151557,
          -0.09495441949791031,
          -0.08958460157076936,
          -0.06838581388250484,
          0.062085577013919147,
          -0.05170255790940609,
          -0.09467144055817797,
          -0.14851451488672454,
          0.20109226924459972,
          0.3622565971560814,
          0.42293031331828246,
          0.3933086725406517,
          0.06558270440720237,
          -0.317994883980413,
          -0.6292380867996026,
          0.5331084303062542,
          0.24886364644365833,
          -0.3145763078405538,
          0.21036469454773526,
          0.4261817863010938,
          0.40391996666412455,
          -0.009865523127154524,
          -0.03584170492370378,
          -0.09708409957596462,
          0.014678135290333572,
          0.21871526782094663,
          0.3987018349801852,
          0.5245621308557642,
          0.1991617874851428,
          0.5243583511006483,
          -0.1593941673526755,
          -0.1624144534675026,
          0.14317462937027797,
          0.3643687803769545,
          0.6359815472373641,
          0.09810524904199269,
          0.5691812387597077,
          0.11321450005050282,
          -0.3449187420928846,
          -0.1651233777495668,
          0.238599012820713,
          0.4212831270572869,
          0.263893100061753,
          -0.4045746037145997,
          -0.17204791968457012,
          0.17576481041738207,
          0.19123670131073034,
          0.07621046474914284,
          -0.15449796747318473,
          -0.06504858087228382,
          0.5175425690144453,
          0.035637024156782104,
          -0.2992745774401703,
          -0.24604147484849206,
          -0.05934347758948699,
          -0.24896748872655966,
          -0.2179761663708658,
          0.4131946657543336,
          0.6671671017159564,
          0.7202920133263521,
          -0.17061541095442495,
          -0.43525070992738135,
          -0.1773895014152088,
          -0.1277045391576193,
          0.398067963367145,
          0.3719468853257434,
          0.11262644804126659,
          0.12577920307681073,
          0.05900532287841337,
          0.18474375210307736,
          -0.21595163930661793,
          -0.1399594549841292,
          0.1891461310390698,
          0.5315287140031106,
          0.21793802010808705,
          -0.4474948731965301,
          -0.02703770010161799,
          0.3923696709086769,
          0.2645616393355567,
          0.11668784543329569,
          0.15675355850817901,
          0.2076917202866697,
          -0.3878464987642848,
          -0.024218324038396438,
          -0.0013301659946174382,
          0.09377612971500898,
          0.030882282971416097,
          -0.059946663210725115,
          -0.18037579624032046,
          -0.3942746042241205,
          0.1750072902410129,
          -0.496566897644867,
          0.1430200838862548,
          0.29000713239356624,
          0.135184934682621,
          0.0627883073733842,
          -0.09883217634369998,
          -0.004602840726659535,
          0.09719273034340398,
          0.19020041527727627,
          -0.24574777877258358,
          -0.31225381455656326,
          0.22274195036798627,
          0.5830877190984582,
          0.07202068262082445,
          -0.491616302896453,
          -0.013831422788707276,
          0.2111843672441014,
          -0.36597988971776463,
          -0.17806574592039098,
          0.09761681240081799,
          -0.16703307345985668,
          -0.5761294546164559,
          -0.28605373452197813,
          -0.16299870862813676,
          -0.12172554472422978,
          0.4507230471937177,
          0.18771743997248724,
          -0.2261060127812174,
          0.051283372966642427,
          0.035954917166574896,
          -0.027849374351513467,
          -0.3429188022736423,
          -0.47928985014859093,
          0.03446490201518271,
          -0.18055179522233025,
          0.28155690130438404,
          0.3163895258508518,
          0.35400208922998333,
          0.20508286340770704,
          0.04106331197451085,
          0.0073022421265136195,
          0.2784726436476036,
          0.5325702333668372,
          0.29031679468037164,
          -0.21703132960008123,
          0.18642006430039787,
          0.30880633371339117,
          0.14896241918943193,
          0.05019535869519626,
          -0.2307608133535503,
          -0.40489574090948066,
          -0.18094735600081638,
          -0.11727728526363347,
          0.22901445475914944,
          0.261690034594417,
          0.12296269023939688,
          -0.20017409802321812,
          -0.3218562933146537,
          -0.25407371265523837,
          0.5116740971526772,
          0.2995167118254254,
          0.11707109016612183,
          0.1355950012869408
         ],
         "yaxis": "y"
        }
       ],
       "layout": {
        "legend": {
         "tracegroupgap": 0
        },
        "margin": {
         "t": 60
        },
        "template": {
         "data": {
          "bar": [
           {
            "error_x": {
             "color": "#2a3f5f"
            },
            "error_y": {
             "color": "#2a3f5f"
            },
            "marker": {
             "line": {
              "color": "#E5ECF6",
              "width": 0.5
             },
             "pattern": {
              "fillmode": "overlay",
              "size": 10,
              "solidity": 0.2
             }
            },
            "type": "bar"
           }
          ],
          "barpolar": [
           {
            "marker": {
             "line": {
              "color": "#E5ECF6",
              "width": 0.5
             },
             "pattern": {
              "fillmode": "overlay",
              "size": 10,
              "solidity": 0.2
             }
            },
            "type": "barpolar"
           }
          ],
          "carpet": [
           {
            "aaxis": {
             "endlinecolor": "#2a3f5f",
             "gridcolor": "white",
             "linecolor": "white",
             "minorgridcolor": "white",
             "startlinecolor": "#2a3f5f"
            },
            "baxis": {
             "endlinecolor": "#2a3f5f",
             "gridcolor": "white",
             "linecolor": "white",
             "minorgridcolor": "white",
             "startlinecolor": "#2a3f5f"
            },
            "type": "carpet"
           }
          ],
          "choropleth": [
           {
            "colorbar": {
             "outlinewidth": 0,
             "ticks": ""
            },
            "type": "choropleth"
           }
          ],
          "contour": [
           {
            "colorbar": {
             "outlinewidth": 0,
             "ticks": ""
            },
            "colorscale": [
             [
              0,
              "#0d0887"
             ],
             [
              0.1111111111111111,
              "#46039f"
             ],
             [
              0.2222222222222222,
              "#7201a8"
             ],
             [
              0.3333333333333333,
              "#9c179e"
             ],
             [
              0.4444444444444444,
              "#bd3786"
             ],
             [
              0.5555555555555556,
              "#d8576b"
             ],
             [
              0.6666666666666666,
              "#ed7953"
             ],
             [
              0.7777777777777778,
              "#fb9f3a"
             ],
             [
              0.8888888888888888,
              "#fdca26"
             ],
             [
              1,
              "#f0f921"
             ]
            ],
            "type": "contour"
           }
          ],
          "contourcarpet": [
           {
            "colorbar": {
             "outlinewidth": 0,
             "ticks": ""
            },
            "type": "contourcarpet"
           }
          ],
          "heatmap": [
           {
            "colorbar": {
             "outlinewidth": 0,
             "ticks": ""
            },
            "colorscale": [
             [
              0,
              "#0d0887"
             ],
             [
              0.1111111111111111,
              "#46039f"
             ],
             [
              0.2222222222222222,
              "#7201a8"
             ],
             [
              0.3333333333333333,
              "#9c179e"
             ],
             [
              0.4444444444444444,
              "#bd3786"
             ],
             [
              0.5555555555555556,
              "#d8576b"
             ],
             [
              0.6666666666666666,
              "#ed7953"
             ],
             [
              0.7777777777777778,
              "#fb9f3a"
             ],
             [
              0.8888888888888888,
              "#fdca26"
             ],
             [
              1,
              "#f0f921"
             ]
            ],
            "type": "heatmap"
           }
          ],
          "heatmapgl": [
           {
            "colorbar": {
             "outlinewidth": 0,
             "ticks": ""
            },
            "colorscale": [
             [
              0,
              "#0d0887"
             ],
             [
              0.1111111111111111,
              "#46039f"
             ],
             [
              0.2222222222222222,
              "#7201a8"
             ],
             [
              0.3333333333333333,
              "#9c179e"
             ],
             [
              0.4444444444444444,
              "#bd3786"
             ],
             [
              0.5555555555555556,
              "#d8576b"
             ],
             [
              0.6666666666666666,
              "#ed7953"
             ],
             [
              0.7777777777777778,
              "#fb9f3a"
             ],
             [
              0.8888888888888888,
              "#fdca26"
             ],
             [
              1,
              "#f0f921"
             ]
            ],
            "type": "heatmapgl"
           }
          ],
          "histogram": [
           {
            "marker": {
             "pattern": {
              "fillmode": "overlay",
              "size": 10,
              "solidity": 0.2
             }
            },
            "type": "histogram"
           }
          ],
          "histogram2d": [
           {
            "colorbar": {
             "outlinewidth": 0,
             "ticks": ""
            },
            "colorscale": [
             [
              0,
              "#0d0887"
             ],
             [
              0.1111111111111111,
              "#46039f"
             ],
             [
              0.2222222222222222,
              "#7201a8"
             ],
             [
              0.3333333333333333,
              "#9c179e"
             ],
             [
              0.4444444444444444,
              "#bd3786"
             ],
             [
              0.5555555555555556,
              "#d8576b"
             ],
             [
              0.6666666666666666,
              "#ed7953"
             ],
             [
              0.7777777777777778,
              "#fb9f3a"
             ],
             [
              0.8888888888888888,
              "#fdca26"
             ],
             [
              1,
              "#f0f921"
             ]
            ],
            "type": "histogram2d"
           }
          ],
          "histogram2dcontour": [
           {
            "colorbar": {
             "outlinewidth": 0,
             "ticks": ""
            },
            "colorscale": [
             [
              0,
              "#0d0887"
             ],
             [
              0.1111111111111111,
              "#46039f"
             ],
             [
              0.2222222222222222,
              "#7201a8"
             ],
             [
              0.3333333333333333,
              "#9c179e"
             ],
             [
              0.4444444444444444,
              "#bd3786"
             ],
             [
              0.5555555555555556,
              "#d8576b"
             ],
             [
              0.6666666666666666,
              "#ed7953"
             ],
             [
              0.7777777777777778,
              "#fb9f3a"
             ],
             [
              0.8888888888888888,
              "#fdca26"
             ],
             [
              1,
              "#f0f921"
             ]
            ],
            "type": "histogram2dcontour"
           }
          ],
          "mesh3d": [
           {
            "colorbar": {
             "outlinewidth": 0,
             "ticks": ""
            },
            "type": "mesh3d"
           }
          ],
          "parcoords": [
           {
            "line": {
             "colorbar": {
              "outlinewidth": 0,
              "ticks": ""
             }
            },
            "type": "parcoords"
           }
          ],
          "pie": [
           {
            "automargin": true,
            "type": "pie"
           }
          ],
          "scatter": [
           {
            "fillpattern": {
             "fillmode": "overlay",
             "size": 10,
             "solidity": 0.2
            },
            "type": "scatter"
           }
          ],
          "scatter3d": [
           {
            "line": {
             "colorbar": {
              "outlinewidth": 0,
              "ticks": ""
             }
            },
            "marker": {
             "colorbar": {
              "outlinewidth": 0,
              "ticks": ""
             }
            },
            "type": "scatter3d"
           }
          ],
          "scattercarpet": [
           {
            "marker": {
             "colorbar": {
              "outlinewidth": 0,
              "ticks": ""
             }
            },
            "type": "scattercarpet"
           }
          ],
          "scattergeo": [
           {
            "marker": {
             "colorbar": {
              "outlinewidth": 0,
              "ticks": ""
             }
            },
            "type": "scattergeo"
           }
          ],
          "scattergl": [
           {
            "marker": {
             "colorbar": {
              "outlinewidth": 0,
              "ticks": ""
             }
            },
            "type": "scattergl"
           }
          ],
          "scattermapbox": [
           {
            "marker": {
             "colorbar": {
              "outlinewidth": 0,
              "ticks": ""
             }
            },
            "type": "scattermapbox"
           }
          ],
          "scatterpolar": [
           {
            "marker": {
             "colorbar": {
              "outlinewidth": 0,
              "ticks": ""
             }
            },
            "type": "scatterpolar"
           }
          ],
          "scatterpolargl": [
           {
            "marker": {
             "colorbar": {
              "outlinewidth": 0,
              "ticks": ""
             }
            },
            "type": "scatterpolargl"
           }
          ],
          "scatterternary": [
           {
            "marker": {
             "colorbar": {
              "outlinewidth": 0,
              "ticks": ""
             }
            },
            "type": "scatterternary"
           }
          ],
          "surface": [
           {
            "colorbar": {
             "outlinewidth": 0,
             "ticks": ""
            },
            "colorscale": [
             [
              0,
              "#0d0887"
             ],
             [
              0.1111111111111111,
              "#46039f"
             ],
             [
              0.2222222222222222,
              "#7201a8"
             ],
             [
              0.3333333333333333,
              "#9c179e"
             ],
             [
              0.4444444444444444,
              "#bd3786"
             ],
             [
              0.5555555555555556,
              "#d8576b"
             ],
             [
              0.6666666666666666,
              "#ed7953"
             ],
             [
              0.7777777777777778,
              "#fb9f3a"
             ],
             [
              0.8888888888888888,
              "#fdca26"
             ],
             [
              1,
              "#f0f921"
             ]
            ],
            "type": "surface"
           }
          ],
          "table": [
           {
            "cells": {
             "fill": {
              "color": "#EBF0F8"
             },
             "line": {
              "color": "white"
             }
            },
            "header": {
             "fill": {
              "color": "#C8D4E3"
             },
             "line": {
              "color": "white"
             }
            },
            "type": "table"
           }
          ]
         },
         "layout": {
          "annotationdefaults": {
           "arrowcolor": "#2a3f5f",
           "arrowhead": 0,
           "arrowwidth": 1
          },
          "autotypenumbers": "strict",
          "coloraxis": {
           "colorbar": {
            "outlinewidth": 0,
            "ticks": ""
           }
          },
          "colorscale": {
           "diverging": [
            [
             0,
             "#8e0152"
            ],
            [
             0.1,
             "#c51b7d"
            ],
            [
             0.2,
             "#de77ae"
            ],
            [
             0.3,
             "#f1b6da"
            ],
            [
             0.4,
             "#fde0ef"
            ],
            [
             0.5,
             "#f7f7f7"
            ],
            [
             0.6,
             "#e6f5d0"
            ],
            [
             0.7,
             "#b8e186"
            ],
            [
             0.8,
             "#7fbc41"
            ],
            [
             0.9,
             "#4d9221"
            ],
            [
             1,
             "#276419"
            ]
           ],
           "sequential": [
            [
             0,
             "#0d0887"
            ],
            [
             0.1111111111111111,
             "#46039f"
            ],
            [
             0.2222222222222222,
             "#7201a8"
            ],
            [
             0.3333333333333333,
             "#9c179e"
            ],
            [
             0.4444444444444444,
             "#bd3786"
            ],
            [
             0.5555555555555556,
             "#d8576b"
            ],
            [
             0.6666666666666666,
             "#ed7953"
            ],
            [
             0.7777777777777778,
             "#fb9f3a"
            ],
            [
             0.8888888888888888,
             "#fdca26"
            ],
            [
             1,
             "#f0f921"
            ]
           ],
           "sequentialminus": [
            [
             0,
             "#0d0887"
            ],
            [
             0.1111111111111111,
             "#46039f"
            ],
            [
             0.2222222222222222,
             "#7201a8"
            ],
            [
             0.3333333333333333,
             "#9c179e"
            ],
            [
             0.4444444444444444,
             "#bd3786"
            ],
            [
             0.5555555555555556,
             "#d8576b"
            ],
            [
             0.6666666666666666,
             "#ed7953"
            ],
            [
             0.7777777777777778,
             "#fb9f3a"
            ],
            [
             0.8888888888888888,
             "#fdca26"
            ],
            [
             1,
             "#f0f921"
            ]
           ]
          },
          "colorway": [
           "#636efa",
           "#EF553B",
           "#00cc96",
           "#ab63fa",
           "#FFA15A",
           "#19d3f3",
           "#FF6692",
           "#B6E880",
           "#FF97FF",
           "#FECB52"
          ],
          "font": {
           "color": "#2a3f5f"
          },
          "geo": {
           "bgcolor": "white",
           "lakecolor": "white",
           "landcolor": "#E5ECF6",
           "showlakes": true,
           "showland": true,
           "subunitcolor": "white"
          },
          "hoverlabel": {
           "align": "left"
          },
          "hovermode": "closest",
          "mapbox": {
           "style": "light"
          },
          "paper_bgcolor": "white",
          "plot_bgcolor": "#E5ECF6",
          "polar": {
           "angularaxis": {
            "gridcolor": "white",
            "linecolor": "white",
            "ticks": ""
           },
           "bgcolor": "#E5ECF6",
           "radialaxis": {
            "gridcolor": "white",
            "linecolor": "white",
            "ticks": ""
           }
          },
          "scene": {
           "xaxis": {
            "backgroundcolor": "#E5ECF6",
            "gridcolor": "white",
            "gridwidth": 2,
            "linecolor": "white",
            "showbackground": true,
            "ticks": "",
            "zerolinecolor": "white"
           },
           "yaxis": {
            "backgroundcolor": "#E5ECF6",
            "gridcolor": "white",
            "gridwidth": 2,
            "linecolor": "white",
            "showbackground": true,
            "ticks": "",
            "zerolinecolor": "white"
           },
           "zaxis": {
            "backgroundcolor": "#E5ECF6",
            "gridcolor": "white",
            "gridwidth": 2,
            "linecolor": "white",
            "showbackground": true,
            "ticks": "",
            "zerolinecolor": "white"
           }
          },
          "shapedefaults": {
           "line": {
            "color": "#2a3f5f"
           }
          },
          "ternary": {
           "aaxis": {
            "gridcolor": "white",
            "linecolor": "white",
            "ticks": ""
           },
           "baxis": {
            "gridcolor": "white",
            "linecolor": "white",
            "ticks": ""
           },
           "bgcolor": "#E5ECF6",
           "caxis": {
            "gridcolor": "white",
            "linecolor": "white",
            "ticks": ""
           }
          },
          "title": {
           "x": 0.05
          },
          "xaxis": {
           "automargin": true,
           "gridcolor": "white",
           "linecolor": "white",
           "ticks": "",
           "title": {
            "standoff": 15
           },
           "zerolinecolor": "white",
           "zerolinewidth": 2
          },
          "yaxis": {
           "automargin": true,
           "gridcolor": "white",
           "linecolor": "white",
           "ticks": "",
           "title": {
            "standoff": 15
           },
           "zerolinecolor": "white",
           "zerolinewidth": 2
          }
         }
        },
        "xaxis": {
         "anchor": "y",
         "domain": [
          0,
          1
         ],
         "title": {
          "text": "pca1"
         }
        },
        "yaxis": {
         "anchor": "x",
         "domain": [
          0,
          1
         ],
         "title": {
          "text": "pca2"
         }
        }
       }
      }
     },
     "metadata": {},
     "output_type": "display_data"
    }
   ],
   "source": [
    "fig = px.scatter(mts_pca_df, x='pca1', y='pca2', hover_data=['index'])\n",
    "fig.show()"
   ]
  },
  {
   "cell_type": "markdown",
   "metadata": {},
   "source": [
    "# Splitting into train/test "
   ]
  },
  {
   "cell_type": "code",
   "execution_count": 34,
   "metadata": {},
   "outputs": [],
   "source": [
    "test_indices = mts_pca_df[(mts_pca_df['pca1'] > 0.6) & (mts_pca_df['pca2'] > 0)]['index'].values\n",
    "train_indices = mts_pca_df['index'][~mts_pca_df['index'].isin(test_indices)].values\n",
    "mts_pca_df['isTrain'] = mts_pca_df['index'].isin(train_indices)"
   ]
  },
  {
   "cell_type": "code",
   "execution_count": 35,
   "metadata": {},
   "outputs": [
    {
     "data": {
      "application/vnd.plotly.v1+json": {
       "config": {
        "plotlyServerURL": "https://plot.ly"
       },
       "data": [
        {
         "customdata": [
          [
           0
          ],
          [
           1
          ],
          [
           2
          ],
          [
           3
          ],
          [
           4
          ],
          [
           5
          ],
          [
           7
          ],
          [
           8
          ],
          [
           9
          ],
          [
           10
          ],
          [
           11
          ],
          [
           12
          ],
          [
           15
          ],
          [
           16
          ],
          [
           17
          ],
          [
           19
          ],
          [
           20
          ],
          [
           21
          ],
          [
           23
          ],
          [
           24
          ],
          [
           25
          ],
          [
           26
          ],
          [
           27
          ],
          [
           28
          ],
          [
           29
          ],
          [
           30
          ],
          [
           31
          ],
          [
           32
          ],
          [
           33
          ],
          [
           34
          ],
          [
           35
          ],
          [
           36
          ],
          [
           37
          ],
          [
           38
          ],
          [
           39
          ],
          [
           40
          ],
          [
           41
          ],
          [
           42
          ],
          [
           43
          ],
          [
           44
          ],
          [
           45
          ],
          [
           47
          ],
          [
           48
          ],
          [
           49
          ],
          [
           50
          ],
          [
           51
          ],
          [
           52
          ],
          [
           53
          ],
          [
           54
          ],
          [
           55
          ],
          [
           56
          ],
          [
           57
          ],
          [
           58
          ],
          [
           59
          ],
          [
           60
          ],
          [
           61
          ],
          [
           62
          ],
          [
           65
          ],
          [
           66
          ],
          [
           67
          ],
          [
           68
          ],
          [
           69
          ],
          [
           70
          ],
          [
           71
          ],
          [
           72
          ],
          [
           73
          ],
          [
           74
          ],
          [
           75
          ],
          [
           76
          ],
          [
           77
          ],
          [
           78
          ],
          [
           79
          ],
          [
           80
          ],
          [
           81
          ],
          [
           82
          ],
          [
           85
          ],
          [
           86
          ],
          [
           87
          ],
          [
           88
          ],
          [
           89
          ],
          [
           90
          ],
          [
           91
          ],
          [
           92
          ],
          [
           93
          ],
          [
           94
          ],
          [
           95
          ],
          [
           96
          ],
          [
           97
          ],
          [
           98
          ],
          [
           99
          ],
          [
           100
          ],
          [
           101
          ],
          [
           102
          ],
          [
           103
          ],
          [
           108
          ],
          [
           109
          ],
          [
           110
          ],
          [
           111
          ],
          [
           112
          ],
          [
           113
          ],
          [
           114
          ],
          [
           115
          ],
          [
           116
          ],
          [
           117
          ],
          [
           120
          ],
          [
           121
          ],
          [
           122
          ],
          [
           123
          ],
          [
           124
          ],
          [
           125
          ],
          [
           126
          ],
          [
           127
          ],
          [
           128
          ],
          [
           131
          ],
          [
           132
          ],
          [
           133
          ],
          [
           134
          ],
          [
           135
          ],
          [
           136
          ],
          [
           137
          ],
          [
           138
          ],
          [
           139
          ],
          [
           140
          ],
          [
           141
          ],
          [
           142
          ],
          [
           143
          ],
          [
           144
          ],
          [
           145
          ],
          [
           146
          ],
          [
           147
          ],
          [
           148
          ],
          [
           149
          ],
          [
           150
          ],
          [
           151
          ],
          [
           152
          ],
          [
           153
          ],
          [
           154
          ],
          [
           155
          ],
          [
           156
          ],
          [
           157
          ],
          [
           158
          ],
          [
           159
          ],
          [
           160
          ],
          [
           161
          ],
          [
           162
          ],
          [
           163
          ],
          [
           164
          ],
          [
           165
          ],
          [
           166
          ],
          [
           167
          ],
          [
           168
          ],
          [
           169
          ],
          [
           170
          ],
          [
           171
          ],
          [
           172
          ],
          [
           173
          ],
          [
           174
          ],
          [
           175
          ],
          [
           176
          ],
          [
           177
          ],
          [
           178
          ],
          [
           179
          ],
          [
           180
          ],
          [
           181
          ],
          [
           182
          ],
          [
           183
          ],
          [
           184
          ],
          [
           185
          ],
          [
           186
          ],
          [
           187
          ],
          [
           188
          ],
          [
           189
          ],
          [
           190
          ],
          [
           191
          ],
          [
           192
          ],
          [
           193
          ],
          [
           194
          ],
          [
           195
          ],
          [
           196
          ],
          [
           197
          ],
          [
           198
          ],
          [
           199
          ],
          [
           200
          ],
          [
           201
          ],
          [
           202
          ],
          [
           203
          ],
          [
           204
          ],
          [
           205
          ],
          [
           206
          ],
          [
           207
          ],
          [
           208
          ],
          [
           209
          ],
          [
           210
          ],
          [
           211
          ],
          [
           212
          ],
          [
           213
          ],
          [
           214
          ],
          [
           215
          ],
          [
           216
          ],
          [
           217
          ],
          [
           218
          ],
          [
           219
          ],
          [
           220
          ],
          [
           221
          ],
          [
           222
          ],
          [
           223
          ],
          [
           224
          ],
          [
           225
          ],
          [
           226
          ],
          [
           227
          ],
          [
           228
          ],
          [
           229
          ],
          [
           230
          ],
          [
           231
          ],
          [
           232
          ],
          [
           233
          ],
          [
           234
          ],
          [
           235
          ],
          [
           236
          ],
          [
           237
          ],
          [
           238
          ],
          [
           239
          ],
          [
           240
          ],
          [
           241
          ],
          [
           242
          ],
          [
           243
          ],
          [
           244
          ],
          [
           245
          ],
          [
           246
          ],
          [
           247
          ],
          [
           248
          ],
          [
           249
          ],
          [
           250
          ],
          [
           251
          ],
          [
           252
          ],
          [
           253
          ],
          [
           254
          ],
          [
           255
          ],
          [
           256
          ],
          [
           257
          ],
          [
           258
          ],
          [
           259
          ],
          [
           260
          ],
          [
           261
          ],
          [
           262
          ],
          [
           263
          ],
          [
           264
          ],
          [
           265
          ],
          [
           266
          ],
          [
           267
          ],
          [
           268
          ],
          [
           269
          ],
          [
           270
          ],
          [
           271
          ],
          [
           272
          ],
          [
           273
          ],
          [
           274
          ],
          [
           275
          ],
          [
           276
          ],
          [
           277
          ],
          [
           278
          ],
          [
           279
          ],
          [
           280
          ],
          [
           282
          ],
          [
           283
          ],
          [
           284
          ],
          [
           285
          ],
          [
           286
          ],
          [
           287
          ],
          [
           288
          ],
          [
           289
          ],
          [
           290
          ],
          [
           291
          ],
          [
           292
          ],
          [
           293
          ],
          [
           294
          ],
          [
           295
          ],
          [
           296
          ],
          [
           297
          ],
          [
           298
          ],
          [
           299
          ],
          [
           300
          ],
          [
           301
          ],
          [
           302
          ],
          [
           303
          ],
          [
           304
          ],
          [
           305
          ],
          [
           306
          ],
          [
           307
          ],
          [
           308
          ],
          [
           309
          ],
          [
           310
          ],
          [
           312
          ],
          [
           313
          ],
          [
           314
          ],
          [
           315
          ],
          [
           316
          ],
          [
           317
          ],
          [
           318
          ],
          [
           319
          ],
          [
           320
          ],
          [
           321
          ],
          [
           322
          ],
          [
           324
          ],
          [
           326
          ],
          [
           327
          ],
          [
           328
          ],
          [
           329
          ],
          [
           330
          ],
          [
           331
          ],
          [
           332
          ],
          [
           333
          ],
          [
           334
          ],
          [
           335
          ],
          [
           336
          ],
          [
           337
          ],
          [
           338
          ],
          [
           339
          ],
          [
           340
          ],
          [
           341
          ],
          [
           342
          ],
          [
           343
          ],
          [
           344
          ],
          [
           345
          ],
          [
           346
          ],
          [
           347
          ],
          [
           348
          ],
          [
           349
          ],
          [
           351
          ],
          [
           352
          ],
          [
           353
          ],
          [
           354
          ],
          [
           355
          ],
          [
           356
          ],
          [
           357
          ],
          [
           358
          ],
          [
           359
          ],
          [
           360
          ],
          [
           361
          ],
          [
           362
          ],
          [
           363
          ],
          [
           366
          ],
          [
           367
          ],
          [
           368
          ],
          [
           369
          ],
          [
           370
          ],
          [
           371
          ],
          [
           374
          ],
          [
           375
          ],
          [
           376
          ],
          [
           377
          ],
          [
           379
          ],
          [
           380
          ],
          [
           381
          ],
          [
           382
          ],
          [
           383
          ],
          [
           384
          ],
          [
           386
          ],
          [
           387
          ],
          [
           388
          ],
          [
           389
          ],
          [
           390
          ],
          [
           391
          ],
          [
           392
          ],
          [
           393
          ],
          [
           394
          ],
          [
           395
          ],
          [
           396
          ],
          [
           397
          ],
          [
           398
          ],
          [
           399
          ],
          [
           400
          ],
          [
           401
          ],
          [
           402
          ],
          [
           403
          ],
          [
           404
          ],
          [
           407
          ],
          [
           408
          ],
          [
           409
          ],
          [
           410
          ],
          [
           411
          ],
          [
           412
          ],
          [
           414
          ],
          [
           415
          ],
          [
           416
          ],
          [
           417
          ],
          [
           418
          ],
          [
           419
          ],
          [
           420
          ],
          [
           421
          ],
          [
           422
          ],
          [
           423
          ],
          [
           424
          ],
          [
           425
          ],
          [
           426
          ],
          [
           427
          ],
          [
           428
          ],
          [
           429
          ],
          [
           431
          ],
          [
           432
          ],
          [
           433
          ],
          [
           434
          ],
          [
           435
          ],
          [
           436
          ],
          [
           437
          ],
          [
           438
          ],
          [
           439
          ],
          [
           440
          ],
          [
           441
          ],
          [
           442
          ],
          [
           443
          ],
          [
           444
          ],
          [
           445
          ],
          [
           446
          ],
          [
           447
          ],
          [
           448
          ],
          [
           450
          ],
          [
           451
          ],
          [
           452
          ],
          [
           453
          ],
          [
           454
          ],
          [
           455
          ],
          [
           456
          ],
          [
           457
          ],
          [
           458
          ],
          [
           459
          ],
          [
           460
          ],
          [
           461
          ],
          [
           462
          ],
          [
           463
          ],
          [
           464
          ],
          [
           465
          ],
          [
           466
          ],
          [
           467
          ],
          [
           468
          ],
          [
           469
          ],
          [
           470
          ],
          [
           471
          ],
          [
           472
          ],
          [
           473
          ],
          [
           474
          ],
          [
           475
          ],
          [
           476
          ],
          [
           477
          ],
          [
           478
          ],
          [
           479
          ],
          [
           480
          ],
          [
           481
          ],
          [
           482
          ],
          [
           483
          ],
          [
           484
          ],
          [
           485
          ],
          [
           486
          ],
          [
           487
          ],
          [
           488
          ],
          [
           489
          ],
          [
           491
          ],
          [
           492
          ],
          [
           493
          ],
          [
           494
          ],
          [
           500
          ],
          [
           501
          ],
          [
           502
          ],
          [
           503
          ],
          [
           504
          ],
          [
           505
          ],
          [
           506
          ],
          [
           507
          ],
          [
           508
          ],
          [
           509
          ],
          [
           510
          ],
          [
           511
          ],
          [
           515
          ],
          [
           516
          ],
          [
           517
          ],
          [
           518
          ],
          [
           519
          ],
          [
           520
          ],
          [
           521
          ],
          [
           522
          ],
          [
           523
          ],
          [
           524
          ],
          [
           525
          ],
          [
           526
          ],
          [
           527
          ],
          [
           530
          ],
          [
           531
          ],
          [
           532
          ],
          [
           533
          ],
          [
           534
          ],
          [
           535
          ],
          [
           536
          ],
          [
           537
          ],
          [
           539
          ],
          [
           540
          ],
          [
           541
          ],
          [
           542
          ],
          [
           543
          ],
          [
           544
          ],
          [
           545
          ],
          [
           546
          ],
          [
           547
          ],
          [
           548
          ],
          [
           549
          ],
          [
           550
          ],
          [
           551
          ],
          [
           552
          ],
          [
           553
          ],
          [
           554
          ],
          [
           555
          ],
          [
           556
          ],
          [
           557
          ],
          [
           558
          ],
          [
           559
          ],
          [
           560
          ],
          [
           561
          ],
          [
           562
          ],
          [
           563
          ],
          [
           564
          ],
          [
           565
          ],
          [
           566
          ],
          [
           567
          ],
          [
           568
          ],
          [
           569
          ],
          [
           570
          ],
          [
           571
          ],
          [
           572
          ],
          [
           573
          ],
          [
           574
          ],
          [
           575
          ],
          [
           576
          ],
          [
           577
          ],
          [
           578
          ],
          [
           579
          ],
          [
           580
          ],
          [
           581
          ],
          [
           582
          ],
          [
           583
          ],
          [
           584
          ],
          [
           585
          ],
          [
           586
          ],
          [
           587
          ],
          [
           588
          ],
          [
           589
          ],
          [
           590
          ],
          [
           591
          ],
          [
           592
          ],
          [
           593
          ],
          [
           594
          ],
          [
           595
          ],
          [
           596
          ],
          [
           597
          ],
          [
           599
          ],
          [
           600
          ],
          [
           601
          ],
          [
           602
          ],
          [
           603
          ],
          [
           604
          ],
          [
           606
          ],
          [
           607
          ],
          [
           608
          ],
          [
           609
          ],
          [
           610
          ],
          [
           611
          ],
          [
           612
          ],
          [
           613
          ],
          [
           614
          ],
          [
           615
          ],
          [
           616
          ],
          [
           617
          ],
          [
           618
          ],
          [
           619
          ],
          [
           620
          ],
          [
           621
          ],
          [
           622
          ],
          [
           623
          ],
          [
           624
          ],
          [
           625
          ],
          [
           626
          ],
          [
           627
          ],
          [
           628
          ],
          [
           629
          ],
          [
           630
          ],
          [
           631
          ],
          [
           632
          ],
          [
           633
          ],
          [
           634
          ],
          [
           635
          ],
          [
           636
          ],
          [
           637
          ],
          [
           639
          ],
          [
           640
          ],
          [
           641
          ],
          [
           642
          ],
          [
           643
          ],
          [
           644
          ],
          [
           645
          ],
          [
           646
          ],
          [
           647
          ],
          [
           648
          ],
          [
           649
          ],
          [
           652
          ],
          [
           653
          ],
          [
           654
          ],
          [
           655
          ],
          [
           656
          ],
          [
           657
          ],
          [
           658
          ],
          [
           659
          ],
          [
           660
          ],
          [
           661
          ],
          [
           662
          ],
          [
           663
          ],
          [
           664
          ],
          [
           665
          ],
          [
           666
          ],
          [
           667
          ],
          [
           668
          ],
          [
           669
          ],
          [
           670
          ],
          [
           671
          ],
          [
           672
          ],
          [
           673
          ],
          [
           674
          ],
          [
           675
          ],
          [
           676
          ],
          [
           677
          ],
          [
           678
          ],
          [
           679
          ],
          [
           680
          ],
          [
           681
          ],
          [
           682
          ],
          [
           683
          ],
          [
           684
          ],
          [
           685
          ],
          [
           686
          ],
          [
           687
          ],
          [
           688
          ],
          [
           689
          ],
          [
           690
          ],
          [
           691
          ],
          [
           692
          ],
          [
           693
          ],
          [
           694
          ],
          [
           695
          ],
          [
           696
          ],
          [
           697
          ],
          [
           698
          ],
          [
           702
          ],
          [
           703
          ],
          [
           704
          ],
          [
           705
          ],
          [
           706
          ],
          [
           707
          ],
          [
           708
          ],
          [
           709
          ],
          [
           710
          ],
          [
           711
          ],
          [
           712
          ],
          [
           713
          ],
          [
           714
          ],
          [
           715
          ],
          [
           716
          ],
          [
           717
          ],
          [
           718
          ],
          [
           719
          ],
          [
           720
          ],
          [
           723
          ]
         ],
         "hovertemplate": "isTrain=True<br>pca1=%{x}<br>pca2=%{y}<br>index=%{customdata[0]}<extra></extra>",
         "legendgroup": "True",
         "marker": {
          "color": "#636efa",
          "symbol": "circle"
         },
         "mode": "markers",
         "name": "True",
         "orientation": "v",
         "showlegend": true,
         "type": "scatter",
         "x": [
          -0.3255290368222715,
          -0.5924050515564191,
          -0.18649678547536808,
          0.35134558972114416,
          -0.45543521176173385,
          -0.012985815998839745,
          0.7826131142029913,
          0.7154464529334172,
          -0.30541911697926416,
          -0.19375082518382036,
          0.3426582927053292,
          0.634307397394245,
          0.4369954382680692,
          0.37749326970148256,
          0.543379324242484,
          0.07201285813808278,
          -0.24759796933567513,
          0.06808600728083714,
          0.4589309183701855,
          0.24255534579838978,
          -0.5611134192166018,
          -0.14363065904619265,
          -0.31185430866733466,
          -0.038088362887414906,
          0.17988531734999746,
          -0.28407210825356266,
          -0.3472390175210668,
          -0.6314456551772437,
          -0.6321048261256165,
          -0.5458182476402106,
          -0.24481175684523682,
          -0.4022245891551782,
          -0.4534814514536391,
          -0.21721757496079086,
          -0.4628755557258849,
          -0.12708485560060045,
          0.18530990904056543,
          0.18619901693092689,
          0.2568046754140261,
          0.10774265524120019,
          0.11460632687010319,
          0.4986741421351031,
          -0.5221078267272393,
          -0.13322723146531623,
          0.13355073876481005,
          0.48790353327646097,
          0.5408396069670536,
          -0.29640745707503213,
          -0.030240654003327982,
          -0.0609934168253361,
          -0.009543364974493374,
          0.5099291478756025,
          0.557299430108684,
          0.32193828930660584,
          -0.31234369497038095,
          -0.5202181424117575,
          -0.5047121680879215,
          0.6270692405514606,
          0.4694817230911261,
          -0.2760265411279307,
          -0.5799500979706635,
          -0.6210971561483483,
          -0.14201378076771654,
          -0.1439391417254483,
          -0.5875702277633553,
          0.37347478098980735,
          -0.46429944057750994,
          -0.11453534507719776,
          -0.22326713687072341,
          -0.5996601332594396,
          -0.5364303510800781,
          -0.16865765901767016,
          0.14523777502127433,
          -0.45818157684007876,
          0.3396949636566513,
          0.26683798374749257,
          -0.5985593846901313,
          0.3292592501727838,
          0.3274491708798757,
          0.21778793459973422,
          -0.4026322442427377,
          -0.4681167596144416,
          -0.4500698128984698,
          0.0930943090892733,
          0.8144816245814106,
          0.5052584666508695,
          0.30909175145349677,
          -0.13015061037034426,
          -0.3121822997877647,
          0.5916869102192988,
          0.37105184934324176,
          -0.6052046975878863,
          -0.507385914777772,
          -0.03163587322721806,
          0.574550036067359,
          0.1763901248583657,
          -0.24053550076306762,
          -0.32229196989809394,
          -0.2780455103642093,
          -0.18516600255610927,
          -0.5677518514115776,
          0.38132447646454093,
          -0.007250480591450614,
          0.033279379386633834,
          0.056953738797027476,
          -0.28853027648416385,
          0.30729699396743504,
          0.5169659204173909,
          0.2893591424575328,
          0.34807315090805147,
          0.20642260846903615,
          0.3315159240815315,
          0.5258359154549066,
          0.5341665247265197,
          -0.3337661819619844,
          -0.5758578137062856,
          0.4706838148339436,
          0.32394951226150925,
          -0.501569833431051,
          -0.5287769971780469,
          -0.5468907270500725,
          -0.042451111479244186,
          0.229325396244364,
          0.035435575395312835,
          -0.3688233374333381,
          0.13893272311460325,
          -0.17287111950614786,
          -0.0897581651117263,
          -0.24090238714949386,
          -0.47911872664380417,
          -0.21607343956414515,
          -0.11326681405629468,
          0.5266848192741516,
          -0.2550637465081045,
          -0.21754394408046251,
          0.014620719662848725,
          0.22570628025112915,
          -0.2693031431049001,
          0.16860071694063627,
          0.46705060877864657,
          -0.24992912593008765,
          -0.6491033100890915,
          -0.006647915307463781,
          -0.6232837521877013,
          0.19232257563999422,
          -0.45237307720208253,
          0.30154589078660754,
          0.36197325077850073,
          -0.29496113906965016,
          -0.3899279077624239,
          -0.35217757799828253,
          0.15416895547543463,
          -0.3296392408611487,
          -0.462267051093145,
          0.18560790174117847,
          -0.10615838455015725,
          -0.47355840948495037,
          -0.5025471095593415,
          -0.3827867364114489,
          -0.5220708476092331,
          0.6182319409200425,
          -0.44505032618879203,
          -0.04350517340083149,
          0.4264342578517766,
          0.525603333279816,
          0.35827153149940294,
          -0.5438977875657978,
          0.32686506674396343,
          -0.022799260320232162,
          -0.5471265197399446,
          -0.6212404431221339,
          -0.5482556592687546,
          -0.39082869864659653,
          -0.3965890627898694,
          0.7861849286495619,
          0.5514619977832957,
          0.015955850602920818,
          0.2066263704976885,
          0.21291439236578902,
          0.3233511109584988,
          -0.14060277554572698,
          -0.44144888364347856,
          -0.38463701273243694,
          0.08798066106567926,
          -0.008334022780400852,
          -0.35921012488120907,
          -0.06584626459025966,
          -0.6166979869020617,
          0.07226223491462369,
          -0.1548956819636127,
          -0.21676521339733956,
          -0.27833848711762577,
          -0.46651221277840005,
          -0.20787476473993083,
          -0.43672793443539787,
          0.2953162421970301,
          -0.3262830097007202,
          -0.37162245375080194,
          -0.47381950752084245,
          -0.4025365267011969,
          -0.32237235950612797,
          -0.5250796821452115,
          0.5960456274585226,
          -0.07311588656200985,
          -0.3379080276706805,
          -0.35405541582796046,
          -0.3071338559379353,
          0.04158390449843097,
          -0.5112640460004099,
          0.49856154933102337,
          -0.13535533359496688,
          -0.5189962791110871,
          -0.5489322260326505,
          -0.26599775215144683,
          0.26126672788842775,
          -0.37721882871256035,
          0.5191060657421471,
          0.0824390182031034,
          -0.14183109180525466,
          -0.4056465085144736,
          -0.1700360121758676,
          0.20677176477679704,
          -0.31179391708914583,
          0.5969944731471886,
          -0.3078543474985327,
          -0.17938700835004995,
          -0.05660359529251402,
          0.043827152171783124,
          0.2556767044538255,
          -0.4873393294819574,
          0.12507816522456427,
          -0.37922574313491786,
          -0.2980385740530551,
          -0.16396524686210678,
          0.02150211854387163,
          0.1542718616097596,
          -0.5602446234340568,
          0.3530419452241593,
          -0.4371980787768198,
          -0.14058234426753813,
          0.11505851663919009,
          0.10148648860117482,
          0.06197213521223133,
          -0.5367058817972944,
          0.18987703273454648,
          -0.4848264547226075,
          -0.5265438537654263,
          -0.32576529911092234,
          -0.17928843149903861,
          -0.2010173523213118,
          -0.4500340882982712,
          0.6692772454614431,
          -0.1759060033695874,
          -0.5779414417662916,
          -0.47104867856553373,
          -0.1897289365263004,
          -0.082249506252565,
          -0.5981014838086836,
          0.2797747623589031,
          0.07955054986649146,
          -0.39247759084597567,
          -0.2402995222985348,
          0.152447635107809,
          0.3365706822131629,
          -0.045166806688237915,
          -0.26167454734681106,
          -0.042615908053313056,
          -0.05691728257892725,
          -0.13439907467527656,
          0.031400956254556966,
          -0.5446452185470425,
          -0.364125639399274,
          0.163294658283625,
          0.5558226640581654,
          0.536296409621134,
          0.5239911845802152,
          0.6021583979448109,
          -0.08616698893682384,
          -0.5707582501352659,
          -0.47941113007943614,
          -0.4507561356402173,
          -0.5066794554465499,
          -0.4209342132768827,
          -0.20767528785234746,
          -0.5926716765271862,
          -0.05021255033410377,
          0.012304063385148334,
          -0.05732191687674704,
          -0.08073425526722833,
          -0.24584605844147478,
          0.14846405769558135,
          0.537141990205622,
          -0.4484789996539942,
          -0.5194397509192088,
          -0.0760171181134719,
          0.5303363547801185,
          0.4790519987351245,
          -0.34598985176712593,
          0.0915700813729069,
          -0.4880666101092101,
          -0.14689644664024037,
          0.056098732416742125,
          0.4730237821539722,
          0.4669684928113338,
          0.5287959930224735,
          0.4416019161387057,
          -0.3295835517158232,
          -0.44319186207700056,
          0.02139096829115772,
          0.506829470603783,
          0.9227482206608284,
          0.6111607858252881,
          -0.4824927724292199,
          -0.5959541316082209,
          -0.22917560810394788,
          0.13800067161394847,
          -0.42949457106827055,
          -0.12734524149791104,
          0.5277598943914699,
          0.08320364500011612,
          -0.5764187784359277,
          -0.5330050316793281,
          -0.26688771397709155,
          -0.5758424261239904,
          -0.5680448055250648,
          -0.3734467840726454,
          -0.04167832391481763,
          0.5205685140047271,
          0.6323003279350328,
          -0.3074267300133976,
          -0.050512936278646725,
          0.022874819425359072,
          -0.5334848769970708,
          -0.5323968537935593,
          -0.4358696718048078,
          -0.4748927112347071,
          -0.321099812188147,
          0.28028173250323607,
          0.11992987798185573,
          -0.2870393837905848,
          -0.19193769074844202,
          0.07016572200198512,
          -0.5461535748222349,
          -0.3096477598327221,
          0.2661577140870244,
          -0.5091488516363837,
          -0.14767613525314904,
          -0.10067739945278809,
          -0.5010520930029576,
          -0.3210254407101475,
          0.507179013227282,
          0.453544759163115,
          0.19193320860666252,
          0.5490506429337654,
          0.6069441136642779,
          0.6102460686232889,
          0.6679893569530697,
          0.31602283414010013,
          -0.16794959592492054,
          -0.5500830895867845,
          0.5018114344275642,
          0.4095874681808067,
          0.21644389987447155,
          0.22604850261226406,
          -0.03389551215858666,
          -0.3640298832594678,
          -0.16151034111083407,
          -0.5368322655310032,
          -0.5243638580134036,
          -0.06672295285058405,
          0.23240947902034215,
          0.5321521389311241,
          -0.2533431430017654,
          -0.48011738840740614,
          -0.5090661147025006,
          0.07301477523224387,
          0.32161339033553626,
          -0.4613300247911739,
          -0.40556868456537293,
          -0.6002966517919235,
          -0.5896263829843278,
          -0.01160074504895725,
          0.4272322057267417,
          -0.44332143127970886,
          0.01886782270543408,
          -0.04688984253130102,
          -0.45141063980978835,
          -0.6140576128097257,
          -0.48927533051256517,
          -0.3168495184048111,
          -0.4008655217125105,
          0.4484471932139029,
          -0.17777855416338006,
          -0.3120000244169243,
          0.04194702527194338,
          -0.5642748823777679,
          -0.45464580504407304,
          0.10981215343274608,
          0.5349376890686168,
          0.035454124215217764,
          -0.28338146584714485,
          -0.3441816865922711,
          -0.3601096041984637,
          -0.18205719694602895,
          0.6335679014398881,
          0.4140249854212792,
          0.02287514034181637,
          -0.3257280347618948,
          0.3467936096439599,
          0.26685169176880175,
          -0.521360786322844,
          -0.4491144915034388,
          -0.2429654086445382,
          -0.14708596205262425,
          -0.41024918792936893,
          -0.11181536047877927,
          0.5983821201430004,
          -0.09808854435004288,
          0.19999529875253663,
          0.38258116256328223,
          0.44688952929695347,
          0.26750050033842965,
          -0.1063610016977452,
          -0.6056318361714974,
          -0.14025535730493244,
          -0.16576830092581074,
          -0.3868219763332019,
          -0.6389224637141699,
          -0.5255033850430367,
          -0.3759749296318039,
          0.11108037126876458,
          0.34408263919746096,
          -0.07994512494719797,
          0.046745716801809944,
          -0.06551445058834082,
          0.13025559566638334,
          0.43248847071247054,
          0.5389127558341207,
          0.07710818402072939,
          -0.28556022545120496,
          0.11839100180039153,
          -0.33679597770801084,
          -0.5467255240608431,
          -0.45835550859896684,
          -0.09980162370203471,
          -0.001393691227681626,
          -0.5856709646725142,
          -0.03399286895758369,
          -0.23338258168691328,
          -0.4794677655409029,
          0.33341686848351193,
          0.6279422567465112,
          0.5488098553378007,
          -0.2737545092958127,
          -0.3454888820126668,
          0.36544192296023525,
          0.35393593233813236,
          -0.5414264330444277,
          0.10747599726958412,
          0.5892129231408241,
          0.4398764129480861,
          0.11624543259230846,
          -0.2949123307645509,
          0.41724445057795156,
          0.6913079427791182,
          0.43552567191044766,
          -0.0828434715283396,
          0.09129250290630153,
          -0.32839851948753795,
          -0.47576656828852054,
          -0.3084656568585322,
          0.4825662820181371,
          0.5163182822004992,
          0.21720612191936373,
          -0.3576891685155306,
          -0.4516262265542363,
          0.004858847233736419,
          0.19364643201884957,
          0.7027375942967915,
          -0.33913869281290443,
          -0.5992875419869506,
          -0.579451544279912,
          -0.5378258418043849,
          0.21454978853821327,
          0.5710543576852443,
          0.20216408774883665,
          -0.25546803911523575,
          0.06079499258935506,
          0.24072848407981584,
          -0.34478437143792307,
          -0.16132207066277915,
          0.08112343811797929,
          0.4871110420665672,
          0.35685435373704766,
          0.5553492825768651,
          -0.5802538198585798,
          0.13611011446227284,
          0.4208003823043367,
          0.39222185555601663,
          0.09058906108577836,
          0.29998870763966123,
          -0.08589063897929872,
          0.18292437393120542,
          0.5729964540058454,
          0.3299635411894215,
          -0.2762164811977862,
          -0.5039097083041161,
          -0.32385907912702305,
          0.05593443353523919,
          -0.48090026380356865,
          0.18970335155531926,
          -0.17407413869668842,
          -0.5796326781630309,
          -0.6169822115947571,
          -0.14009070116573263,
          0.33795418851973213,
          -0.34573783050906925,
          0.39205166944624503,
          -0.26016594119081793,
          -0.5301569673706625,
          -0.4252084357228719,
          -0.12862517963355813,
          0.31846459133377847,
          -0.45202553503586657,
          -0.0947591715570062,
          -0.5956298216400882,
          -0.44121964412964954,
          -0.021943604904101188,
          0.42683866401570314,
          0.5277901559812159,
          -0.5008594456290556,
          0.10528838733571788,
          0.32897431144707334,
          0.41312173279895825,
          0.2880239497426149,
          0.10633099442062588,
          -0.3800785531799887,
          -0.19279795761743712,
          0.5831288566883017,
          -0.2950266704905633,
          -0.35359137298485416,
          -0.2592186656357395,
          -0.4017909720660868,
          -0.34752066634637646,
          0.24938874093992114,
          0.9649967022836885,
          0.34962717021642886,
          -0.27131452534103895,
          -0.5665391250433789,
          -0.4187495429506992,
          -0.34149865101581034,
          -0.1313274410231452,
          -0.30535361841176756,
          -0.5605648286190619,
          -0.03510177953987226,
          0.3260800348724713,
          0.4809893656111177,
          -0.13837867994100816,
          -0.3132681617469192,
          -0.17739497360520673,
          -0.01440375788980186,
          0.25174226999625016,
          0.4110230250860216,
          -0.37114801256099295,
          0.5572906664486419,
          0.03186779706719656,
          -0.37610718552855354,
          -0.45221035658542974,
          -0.3954834682232042,
          -0.03021437420830464,
          -0.6181257978842716,
          0.3879177791384534,
          -0.1427144393008709,
          -0.4910089663822145,
          -0.13582965127978164,
          0.37336027509055647,
          0.47839153861117456,
          -0.45831474995408095,
          -0.06106116028279007,
          0.06709155822714863,
          -0.15143708020298663,
          -0.2604832919406964,
          -0.3140121580717675,
          0.006485992680851482,
          -0.6340386028287411,
          0.4247159248015624,
          -0.3431340927942499,
          -0.15866447770663283,
          0.19528524939322178,
          0.5754313038111623,
          -0.12611040621731306,
          -0.5912737813021333,
          -0.3170600313060461,
          -0.01577405857819203,
          0.028133395811618556,
          -0.5145825989873767,
          0.0836366216486022,
          -0.10242061039428596,
          -0.3429047246590823,
          0.35550370244401663,
          0.556473737646979,
          0.3246126525950257,
          -0.5406390211810355,
          0.07911873255221713,
          0.2015699285834336,
          -0.21967112579790649,
          -0.5141219035199183,
          -0.5815280818234889,
          -0.058123467060192,
          -0.4599063202935936,
          0.2591561837484344,
          -0.5027377211092114,
          -0.022597832389384953,
          0.17703928871797303,
          0.38816357667638446,
          0.4480493493601321,
          0.11637422483592841,
          -0.4294085066220268,
          -0.535564283995246,
          0.5521711683406376,
          -0.12909195713476795,
          -0.5254465576191981,
          -0.11682197908434777,
          0.24528943748693277,
          0.5543467442255803,
          -0.580087766847481,
          -0.05784666891996204,
          -0.1312696002080983,
          -0.22526386713181246,
          -0.41976184699247426,
          -0.4887450871802863,
          0.6559285153748244,
          -0.26160166033907195,
          -0.6037188342899916,
          -0.4473221153851155,
          -0.1914328101085766,
          -0.0028098366661410967,
          -0.39623176987426945,
          -0.46421608061784186,
          0.47989742967692206,
          0.756889622515843,
          0.6581287847669473,
          0.26244816130057136,
          -0.04490877710714969,
          -0.6307562591126372,
          -0.3492973694894477,
          0.08725493794647288,
          0.579980383108855,
          0.2391492116323164,
          -0.3708866135882457,
          -0.19190082114022622,
          -0.27652166849032445,
          -0.49455875561223145,
          -0.45126810436349823,
          -0.44649753307224566,
          -0.2542205500214326,
          0.37532186338032614,
          0.09678321124996503,
          -0.057402237634204156,
          -0.20553381629310874,
          -0.33691247285916226,
          -0.4316329899587697,
          -0.4245217577636641,
          0.325330382241215,
          -0.2822605187130066,
          -0.4237986627431288,
          -0.26891821533119564,
          0.5005065159520001
         ],
         "xaxis": "x",
         "y": [
          -0.21051803871184308,
          -0.18521040061417296,
          -0.4274157735621097,
          -0.5682263609639018,
          0.10726288700298875,
          -0.008642646442216045,
          -0.012536500962769509,
          -0.0818173382149992,
          -0.36499042445872437,
          -0.35776984708375037,
          -0.2560811150328602,
          -0.12373797290728748,
          -0.12321114408701563,
          -0.19606755122302846,
          -0.41022370491141386,
          0.3197406991060464,
          0.5162270116791184,
          0.44690482840616197,
          0.044746164035243896,
          -0.1869374644051336,
          -0.13794633531399417,
          0.17646674727243966,
          -0.0403464546500219,
          -0.20310795941057863,
          -0.5616836416974742,
          -0.30743248985427657,
          -0.17069735831689686,
          -0.15324079099749427,
          -0.1963010658592586,
          0.03352097164193063,
          0.2726299602587056,
          -0.08566626705943392,
          -0.29840283264467604,
          -0.18335852548441914,
          -0.2865999888135867,
          -0.3015876899165351,
          -0.5245677661347151,
          -0.5356089111216036,
          -0.45470175290351045,
          -0.21569512073568078,
          0.42436883232280553,
          -0.49134409548693775,
          0.02057322648061441,
          0.22102458551793502,
          0.11418834404540396,
          -0.1179704860344332,
          -0.35894801830868717,
          -0.36842757301816925,
          0.4119261516184787,
          -0.1682437661797041,
          -0.31317891732280073,
          -0.2765375519905602,
          0.016758477703483626,
          0.06343857104664286,
          -0.26113507919541995,
          -0.24099786601394405,
          -0.09445651020640253,
          -0.06133260467194626,
          -0.3827020009424621,
          -0.0954852046958049,
          -0.18497946943489174,
          -0.1616849946781648,
          -0.3546739402230149,
          -0.2698203193818578,
          -0.07984444856000605,
          -0.4825199213832134,
          0.2986833044356826,
          0.49552701757872364,
          -0.0354967852917768,
          -0.1627035966468758,
          0.03049771278653135,
          -0.011736712548822498,
          -0.4341375697029449,
          0.06891456521429778,
          0.34564979793930606,
          -0.09631774212122557,
          -0.16401720387806618,
          -0.047481655139616386,
          0.20765760676213796,
          0.17466533315045613,
          0.1997400782915184,
          0.23946066582230052,
          0.25600319106860386,
          0.34617616835460807,
          -0.023874866992713767,
          -0.005722567344613488,
          -0.18625551451413536,
          0.0004842719417513519,
          0.3089126711357175,
          0.18357923023643963,
          0.06906340058664867,
          -0.14292859450012138,
          -0.08390785044157173,
          0.12523346847088085,
          -0.5861830212259628,
          -0.22704235367743478,
          0.36598477867351487,
          0.5315683627671485,
          0.4332236354943001,
          0.20285695773137813,
          -0.03267594937727766,
          0.23595786993102713,
          0.5217931365191059,
          0.5197221326285729,
          0.5190271852542069,
          0.5448321178385458,
          0.24398008653668962,
          -0.13949554576785633,
          -0.056944717845589105,
          0.3680552770237647,
          0.31108303530857984,
          0.37601755882688825,
          0.34820212664238626,
          0.0788101495022327,
          -0.1898656934003595,
          -0.033542343125229496,
          -0.3772005524661572,
          -0.07567399380682643,
          0.20768301682079304,
          0.1503017747047819,
          -0.003072240825220396,
          0.09225250526400253,
          -0.19344617674392028,
          -0.22479193818769974,
          0.4518298240686405,
          0.20800609413128174,
          -0.05926698618419354,
          -0.060241217960541216,
          0.25800847037101793,
          0.3552121369616589,
          0.42232365361627455,
          0.4674679048606635,
          -0.14876501814462334,
          -0.060946274688688906,
          0.006525049401526151,
          0.20841363560460063,
          0.16663235248101238,
          -0.29524493765361154,
          -0.3803850636568979,
          -0.5868343655734639,
          -0.3152082659132117,
          -0.1505228739198635,
          -0.39390715642977847,
          -0.1629079847132342,
          -0.03207536450828111,
          0.3202455752871832,
          -0.4646719659764803,
          -0.4843123884176281,
          0.12277143080732295,
          -0.007736922364403986,
          -0.23868192777353447,
          -0.48319237302493845,
          0.03234190985849017,
          -0.16807071642855131,
          0.23546720540235355,
          0.0982309691417318,
          0.18007354910775392,
          0.2657478645616449,
          0.0023114454687389874,
          -0.1799440547653745,
          -0.2911329403350482,
          0.2832149581322645,
          0.46426390869970435,
          0.32133280622028404,
          0.06214763263120071,
          -0.2495588978262464,
          -0.08006988924975716,
          0.19414086655766777,
          0.09363509058552827,
          -0.20955922256264803,
          -0.17035159788081522,
          -0.15386778471860413,
          -0.17059777282851332,
          0.15989046111443156,
          -0.07191295187345034,
          -0.14538194879693572,
          -0.4296622895867339,
          0.29334712045576083,
          0.3919425077159949,
          0.37280057828800084,
          0.4396446302527982,
          -0.026611140785468834,
          -0.11002889015246049,
          0.0994260837729895,
          0.4681455978421024,
          0.2561728401402404,
          -0.40234173683296554,
          -0.11500794015486318,
          -0.44637861226038833,
          -0.2316115676918647,
          -0.25221996426437565,
          0.03998575724444742,
          0.14573392879202762,
          -0.3495780493509183,
          0.27795847698766996,
          -0.46565273308614424,
          -0.33316384113323594,
          -0.1798560659210437,
          0.14198211477188172,
          0.44945048253138997,
          0.14775572524773944,
          -0.16298866232085998,
          -0.5103183033379386,
          -0.22286148921913232,
          0.1553778283428875,
          0.4959910404512402,
          -0.1005220994416543,
          -0.4040291776731544,
          0.0980307957419746,
          -0.005221846005086794,
          0.26858315424686335,
          -0.016830624838171965,
          -0.16131659175608187,
          -0.3160483769204771,
          -0.11821812524379915,
          0.3636287383484659,
          0.031552857110844934,
          0.13583681619132243,
          0.1662836199257941,
          -0.25886220989078185,
          0.32565236065976033,
          0.29838080735232453,
          0.5035790996037328,
          0.30488643542288474,
          0.6084257432240167,
          0.12456376949440573,
          -0.3453822873977994,
          -0.35565379846827744,
          -0.5115735671544122,
          -0.22876261953275256,
          -0.20874615346395314,
          0.49163929194075073,
          0.3523261862007987,
          -0.28976636424703694,
          0.0014673642859629743,
          0.05906692180929246,
          0.005540549718052679,
          -0.5443125255237737,
          0.3494641773916084,
          0.4809301221906047,
          0.1925048199081017,
          -0.39719401176820224,
          -0.4001874445556086,
          -0.19782841632322282,
          -0.48854909071820063,
          0.021463789356473417,
          -0.1802977653906419,
          -0.0946644782733719,
          -0.04723815850203936,
          0.027085060707390363,
          0.06201519874857264,
          -0.3185943809293148,
          -0.20621889774405697,
          -0.12577290528115898,
          -0.21673482536079003,
          -0.29666416905197146,
          -0.34987384128763654,
          -0.09417375463889499,
          -0.22083108404123986,
          -0.0999583137827647,
          -0.21896416019642784,
          0.48160931443632504,
          0.47494669007081847,
          0.3874398476579506,
          0.2510581405263815,
          -0.14844093220690463,
          -0.0836102886550398,
          0.17294205218487224,
          0.3803407759977334,
          -0.25775263142413063,
          -0.1223562118215021,
          0.25314452593127074,
          0.35500223005224185,
          0.1324346802278708,
          -0.13360453263680827,
          -0.35536492405490216,
          -0.4138863909446707,
          -0.4118906995631334,
          -0.20864503395991002,
          0.2052815450554899,
          0.28386127744095424,
          0.1428404468676167,
          -0.13627375917718637,
          -0.3258942147497089,
          -0.21325963328412592,
          -0.39834255611273006,
          -0.06809710574919534,
          -0.046280087722402885,
          0.10071266082701413,
          0.28876983802468337,
          0.4658424051875444,
          0.34979149767710804,
          -0.2468646346932372,
          -0.1365233810263194,
          -0.038412217017354894,
          0.02823269746391749,
          -0.02031738685403492,
          0.05421977131209249,
          -0.4387973750131935,
          0.1347789323578928,
          0.35388909940624436,
          0.15595659735964018,
          0.22618601854397646,
          0.27804716237555815,
          0.2355905386558741,
          -0.2337480801744619,
          -0.2404466119026199,
          0.1907114757089461,
          0.4321298972600466,
          0.02259726983891905,
          -0.10250495951874374,
          -0.1596242276786956,
          -0.25465256219655774,
          -0.18414565935260716,
          -0.3405439110772997,
          -0.4608451040239458,
          -0.12435260927302659,
          -0.1459730567608668,
          0.04266122985706,
          -0.44088228483010683,
          -0.10055245772219956,
          -0.22135852997061053,
          -0.33523400750835547,
          -0.2118406461414716,
          -0.20277888831210725,
          -0.12304234434022437,
          0.09498650923700314,
          0.2382290828973801,
          -0.08825871600200491,
          -0.1207284968208804,
          0.08932646888985257,
          0.08452429576381004,
          -0.19462618991405398,
          -0.14784567262288328,
          -0.28609941507442227,
          -0.042978941823627714,
          0.018383677659610548,
          -0.13616510731164627,
          -0.23938764912180993,
          -0.3411275027088669,
          0.3105953099212081,
          0.0823454728166263,
          -0.1402330631997467,
          -0.31106388422324516,
          -0.3268560094822742,
          -0.1949807041858471,
          0.0851006336817759,
          -0.22860699136761323,
          -0.2711157362594575,
          0.1483587162443148,
          0.11947390908382521,
          -0.17527249404289744,
          -0.5705018890506827,
          -0.6777530304613624,
          -0.697329209900879,
          -0.5689548822006368,
          -0.41978430859213534,
          0.11663701276589611,
          0.00280871651448375,
          -0.12716372198509304,
          -0.2691944269229785,
          -0.0870454908132513,
          -0.1250809094104812,
          -0.5684809860002764,
          0.011914932774559961,
          0.39444273205302594,
          -0.005942720678018043,
          -0.23148371759335293,
          -0.17113668693928516,
          0.37707103301665856,
          -0.18415758576468522,
          -0.409375382912928,
          -0.23835670552680982,
          -0.2403455332343722,
          -0.1133502673133492,
          0.05618850254764357,
          -0.32210749774307584,
          -0.2532756926276068,
          -0.31499932690136245,
          -0.22702351123114356,
          -0.18458537450202875,
          0.2125279099184183,
          -0.2499468575814677,
          -0.17949026140050192,
          0.03301752265607838,
          0.050559805487548015,
          -0.22551767003984716,
          -0.1662791565578702,
          -0.10068755710553647,
          -0.13742050195651284,
          -0.006994413342828382,
          -0.6498320465169718,
          -0.27974864770285685,
          0.5192174971862243,
          0.17101407193776708,
          -0.23468708338693753,
          0.12849893849280125,
          0.2797020088818394,
          0.05459823476049658,
          0.02491216069816307,
          0.23460077646661065,
          0.4135433591098664,
          0.3476754396110501,
          0.08443695474557122,
          -0.6464091615019003,
          -0.5981665206881579,
          -0.0672935963071584,
          0.4024673165618904,
          -0.16159737980183644,
          -0.575189796871783,
          -0.04076414467926284,
          -0.1331689055539262,
          0.2822259788021596,
          0.3700490123119329,
          0.23205561012554649,
          -0.22941640382700837,
          0.13026976122536305,
          0.4812005980880152,
          0.3749782135150376,
          0.3241107299154663,
          0.29734929285474276,
          0.009060219020475518,
          -0.21067247928009866,
          -0.16412381014447014,
          -0.2365533247214206,
          0.021942488026800572,
          -0.11175892221086164,
          -0.14079577589740613,
          0.08697019503315195,
          0.26296952798843565,
          -0.15806433845123014,
          -0.344338815480496,
          -0.12418816997261041,
          -0.0685706839940815,
          0.1924359648189639,
          0.5349322792797198,
          0.409718026213328,
          0.05186667113362137,
          -0.3521182549538785,
          -0.081110776597977,
          0.05623648042916812,
          -0.26187266646147755,
          -0.01910420901914614,
          0.09260787263871328,
          -0.20026547636380598,
          -0.4886016522910072,
          -0.14662521806271656,
          0.0777849752723761,
          -0.056998854323613984,
          -0.21740321971205404,
          0.1685291244776721,
          -0.17277633972717815,
          -0.5188311206595668,
          -0.3021933657086068,
          0.33925326956143653,
          0.22067252774673007,
          -0.08286239102343523,
          0.02306816477708959,
          -0.21730907409561093,
          0.11811022606141208,
          -0.14975346222183866,
          0.1603840428404366,
          0.3835986432109132,
          0.12993651668334577,
          -0.08691863026541435,
          0.22852805892533473,
          0.42595546954077756,
          0.40145224925350675,
          -0.26847724118790556,
          0.13989461683068943,
          0.4038717179831166,
          0.3363397965335826,
          -0.06274689737622746,
          -0.15528990636397538,
          -0.10628181608347734,
          0.5247202578821769,
          0.45115761389499065,
          0.13263796815149792,
          -0.36676305724307123,
          -0.20414764392164383,
          -0.14721005623731362,
          -0.06982825725568947,
          0.10161277987698542,
          0.4563796031957672,
          0.3818744331035745,
          0.3160261551313013,
          0.45426456847807195,
          -0.3898415709785472,
          -0.349231874393177,
          0.14362609088430994,
          0.46864725659900786,
          0.5623966592060765,
          0.3655697661652779,
          0.260455473125399,
          0.23870685957231697,
          -0.13138562877532164,
          0.051777273632352905,
          0.22463944105940536,
          0.349459295487919,
          0.498658890312792,
          0.4243906091400186,
          0.0426840201390854,
          -0.05458358434145971,
          -0.6190783393031029,
          -0.4893544031369019,
          -0.14195980845305256,
          0.08605700528117127,
          -0.3206255847019785,
          -0.445312143698992,
          0.0699738139794972,
          0.4651189742219036,
          -0.2837220446803142,
          -0.20837076675927343,
          -0.12609582373432854,
          0.024971962544040216,
          -0.05348130399663131,
          0.2983461935134224,
          -0.12072586622222396,
          0.13186411774482848,
          0.14865982543662182,
          -0.05229279535148426,
          -0.34758068729895863,
          -0.520207739428738,
          -0.1522992551606196,
          -0.39640290407151557,
          -0.09495441949791031,
          -0.08958460157076936,
          -0.06838581388250484,
          0.062085577013919147,
          -0.05170255790940609,
          -0.09467144055817797,
          -0.14851451488672454,
          0.20109226924459972,
          0.3622565971560814,
          0.42293031331828246,
          0.3933086725406517,
          0.06558270440720237,
          -0.317994883980413,
          -0.6292380867996026,
          0.5331084303062542,
          0.24886364644365833,
          -0.3145763078405538,
          0.21036469454773526,
          0.4261817863010938,
          0.40391996666412455,
          -0.009865523127154524,
          -0.03584170492370378,
          -0.09708409957596462,
          0.014678135290333572,
          0.21871526782094663,
          0.3987018349801852,
          0.5245621308557642,
          0.5243583511006483,
          -0.1593941673526755,
          -0.1624144534675026,
          0.14317462937027797,
          0.3643687803769545,
          0.6359815472373641,
          0.5691812387597077,
          0.11321450005050282,
          -0.3449187420928846,
          -0.1651233777495668,
          0.238599012820713,
          0.4212831270572869,
          0.263893100061753,
          -0.4045746037145997,
          -0.17204791968457012,
          0.17576481041738207,
          0.19123670131073034,
          0.07621046474914284,
          -0.15449796747318473,
          -0.06504858087228382,
          0.5175425690144453,
          0.035637024156782104,
          -0.2992745774401703,
          -0.24604147484849206,
          -0.05934347758948699,
          -0.24896748872655966,
          -0.2179761663708658,
          0.4131946657543336,
          0.6671671017159564,
          0.7202920133263521,
          -0.17061541095442495,
          -0.43525070992738135,
          -0.1773895014152088,
          -0.1277045391576193,
          0.398067963367145,
          0.3719468853257434,
          0.11262644804126659,
          0.12577920307681073,
          0.18474375210307736,
          -0.21595163930661793,
          -0.1399594549841292,
          0.1891461310390698,
          0.5315287140031106,
          0.21793802010808705,
          -0.4474948731965301,
          -0.02703770010161799,
          0.3923696709086769,
          0.2645616393355567,
          0.11668784543329569,
          -0.3878464987642848,
          -0.024218324038396438,
          -0.0013301659946174382,
          0.09377612971500898,
          0.030882282971416097,
          -0.059946663210725115,
          -0.18037579624032046,
          -0.3942746042241205,
          0.1750072902410129,
          -0.496566897644867,
          0.1430200838862548,
          0.29000713239356624,
          0.135184934682621,
          0.0627883073733842,
          -0.09883217634369998,
          -0.004602840726659535,
          0.09719273034340398,
          0.19020041527727627,
          -0.24574777877258358,
          -0.31225381455656326,
          0.22274195036798627,
          0.5830877190984582,
          0.07202068262082445,
          -0.491616302896453,
          -0.013831422788707276,
          0.2111843672441014,
          -0.36597988971776463,
          -0.17806574592039098,
          0.09761681240081799,
          -0.16703307345985668,
          -0.5761294546164559,
          -0.28605373452197813,
          -0.16299870862813676,
          -0.12172554472422978,
          0.4507230471937177,
          0.18771743997248724,
          -0.2261060127812174,
          0.051283372966642427,
          0.035954917166574896,
          -0.027849374351513467,
          -0.3429188022736423,
          -0.47928985014859093,
          0.03446490201518271,
          -0.18055179522233025,
          0.28155690130438404,
          0.3163895258508518,
          0.35400208922998333,
          0.2784726436476036,
          0.5325702333668372,
          0.29031679468037164,
          -0.21703132960008123,
          0.18642006430039787,
          0.30880633371339117,
          0.14896241918943193,
          0.05019535869519626,
          -0.2307608133535503,
          -0.40489574090948066,
          -0.18094735600081638,
          -0.11727728526363347,
          0.22901445475914944,
          0.261690034594417,
          0.12296269023939688,
          -0.20017409802321812,
          -0.3218562933146537,
          -0.25407371265523837,
          0.5116740971526772,
          0.1355950012869408
         ],
         "yaxis": "y"
        },
        {
         "customdata": [
          [
           6
          ],
          [
           13
          ],
          [
           14
          ],
          [
           18
          ],
          [
           22
          ],
          [
           46
          ],
          [
           63
          ],
          [
           64
          ],
          [
           83
          ],
          [
           84
          ],
          [
           104
          ],
          [
           105
          ],
          [
           106
          ],
          [
           107
          ],
          [
           118
          ],
          [
           119
          ],
          [
           129
          ],
          [
           130
          ],
          [
           281
          ],
          [
           311
          ],
          [
           323
          ],
          [
           325
          ],
          [
           350
          ],
          [
           364
          ],
          [
           365
          ],
          [
           372
          ],
          [
           373
          ],
          [
           378
          ],
          [
           385
          ],
          [
           405
          ],
          [
           406
          ],
          [
           413
          ],
          [
           430
          ],
          [
           449
          ],
          [
           490
          ],
          [
           495
          ],
          [
           496
          ],
          [
           497
          ],
          [
           498
          ],
          [
           499
          ],
          [
           512
          ],
          [
           513
          ],
          [
           514
          ],
          [
           528
          ],
          [
           529
          ],
          [
           538
          ],
          [
           598
          ],
          [
           605
          ],
          [
           638
          ],
          [
           650
          ],
          [
           651
          ],
          [
           699
          ],
          [
           700
          ],
          [
           701
          ],
          [
           721
          ],
          [
           722
          ]
         ],
         "hovertemplate": "isTrain=False<br>pca1=%{x}<br>pca2=%{y}<br>index=%{customdata[0]}<extra></extra>",
         "legendgroup": "False",
         "marker": {
          "color": "#EF553B",
          "symbol": "circle"
         },
         "mode": "markers",
         "name": "False",
         "orientation": "v",
         "showlegend": true,
         "type": "scatter",
         "x": [
          0.6337301905881205,
          0.9029831330351474,
          0.6423255760779225,
          0.6878481346640068,
          0.6522859892334039,
          0.7571572643835054,
          0.6755810256678689,
          0.6933700452799705,
          0.8893273140795941,
          0.8261706191782658,
          0.8308289239877356,
          0.8191386143955675,
          0.8112929730853484,
          0.76778870264925,
          0.7038914626220376,
          0.8745433289691746,
          0.9480427959240043,
          0.8462211145141325,
          0.8324243591912786,
          0.9665127312345201,
          0.6615974006679723,
          0.6606188292052686,
          0.8281082484485793,
          0.8119506689953011,
          0.9253437478893565,
          0.828461394481335,
          0.831239308802618,
          0.6809622938186883,
          0.6122231429964113,
          0.6465430225357192,
          0.6542292086439114,
          0.6445355082816051,
          0.7770437368159537,
          0.7968534586859153,
          0.7967250958305205,
          0.8565216828053137,
          0.9007030192745265,
          0.9057235057053801,
          0.954913494372684,
          0.8828734548908566,
          0.9837108794559082,
          0.9288232308023638,
          0.6758500532448048,
          0.9389224754327412,
          0.6323136001602065,
          0.6536050985682027,
          0.9292940944021038,
          0.7142759303840169,
          0.6353683432141501,
          0.6571214018838099,
          0.6604142477694057,
          0.7648724830407931,
          0.7515555161223249,
          0.629013077514726,
          0.6660554110115986,
          0.915598051618415
         ],
         "xaxis": "x",
         "y": [
          0.008759055854721892,
          0.06189011103091646,
          0.05622106725108561,
          0.011711456470860304,
          0.0629453291794913,
          0.20449682075650877,
          0.062462408710114936,
          0.06879790299206001,
          0.2347719747826678,
          0.2104830071722098,
          0.18606874094362374,
          0.12618637898395074,
          0.04104559522765411,
          0.20700977286258837,
          0.18961965228565097,
          0.17974715811804903,
          0.18726361937090164,
          0.14423111489192936,
          0.20509082859626976,
          0.17538391662505326,
          0.1842228141583408,
          0.210108661569526,
          0.1131117699742255,
          0.21161715869484826,
          0.0915901757153671,
          0.06756419118861867,
          0.023862906109645643,
          0.09388035502587166,
          0.011975895351265059,
          0.29172856046822326,
          0.046578454324073926,
          0.06428045899512835,
          0.029636359851580363,
          0.01920178091951852,
          0.13433243070664802,
          0.216260094402274,
          0.18994945525431844,
          0.22857587246104993,
          0.24389745761535242,
          0.23696208700424226,
          0.21568568601993643,
          0.19440946784886992,
          0.21012567049432873,
          0.11256659998607393,
          0.1705189660483744,
          0.21262570938235847,
          0.1991617874851428,
          0.09810524904199269,
          0.05900532287841337,
          0.15675355850817901,
          0.2076917202866697,
          0.20508286340770704,
          0.04106331197451085,
          0.0073022421265136195,
          0.2995167118254254,
          0.11707109016612183
         ],
         "yaxis": "y"
        }
       ],
       "layout": {
        "legend": {
         "title": {
          "text": "isTrain"
         },
         "tracegroupgap": 0
        },
        "margin": {
         "t": 60
        },
        "template": {
         "data": {
          "bar": [
           {
            "error_x": {
             "color": "#2a3f5f"
            },
            "error_y": {
             "color": "#2a3f5f"
            },
            "marker": {
             "line": {
              "color": "#E5ECF6",
              "width": 0.5
             },
             "pattern": {
              "fillmode": "overlay",
              "size": 10,
              "solidity": 0.2
             }
            },
            "type": "bar"
           }
          ],
          "barpolar": [
           {
            "marker": {
             "line": {
              "color": "#E5ECF6",
              "width": 0.5
             },
             "pattern": {
              "fillmode": "overlay",
              "size": 10,
              "solidity": 0.2
             }
            },
            "type": "barpolar"
           }
          ],
          "carpet": [
           {
            "aaxis": {
             "endlinecolor": "#2a3f5f",
             "gridcolor": "white",
             "linecolor": "white",
             "minorgridcolor": "white",
             "startlinecolor": "#2a3f5f"
            },
            "baxis": {
             "endlinecolor": "#2a3f5f",
             "gridcolor": "white",
             "linecolor": "white",
             "minorgridcolor": "white",
             "startlinecolor": "#2a3f5f"
            },
            "type": "carpet"
           }
          ],
          "choropleth": [
           {
            "colorbar": {
             "outlinewidth": 0,
             "ticks": ""
            },
            "type": "choropleth"
           }
          ],
          "contour": [
           {
            "colorbar": {
             "outlinewidth": 0,
             "ticks": ""
            },
            "colorscale": [
             [
              0,
              "#0d0887"
             ],
             [
              0.1111111111111111,
              "#46039f"
             ],
             [
              0.2222222222222222,
              "#7201a8"
             ],
             [
              0.3333333333333333,
              "#9c179e"
             ],
             [
              0.4444444444444444,
              "#bd3786"
             ],
             [
              0.5555555555555556,
              "#d8576b"
             ],
             [
              0.6666666666666666,
              "#ed7953"
             ],
             [
              0.7777777777777778,
              "#fb9f3a"
             ],
             [
              0.8888888888888888,
              "#fdca26"
             ],
             [
              1,
              "#f0f921"
             ]
            ],
            "type": "contour"
           }
          ],
          "contourcarpet": [
           {
            "colorbar": {
             "outlinewidth": 0,
             "ticks": ""
            },
            "type": "contourcarpet"
           }
          ],
          "heatmap": [
           {
            "colorbar": {
             "outlinewidth": 0,
             "ticks": ""
            },
            "colorscale": [
             [
              0,
              "#0d0887"
             ],
             [
              0.1111111111111111,
              "#46039f"
             ],
             [
              0.2222222222222222,
              "#7201a8"
             ],
             [
              0.3333333333333333,
              "#9c179e"
             ],
             [
              0.4444444444444444,
              "#bd3786"
             ],
             [
              0.5555555555555556,
              "#d8576b"
             ],
             [
              0.6666666666666666,
              "#ed7953"
             ],
             [
              0.7777777777777778,
              "#fb9f3a"
             ],
             [
              0.8888888888888888,
              "#fdca26"
             ],
             [
              1,
              "#f0f921"
             ]
            ],
            "type": "heatmap"
           }
          ],
          "heatmapgl": [
           {
            "colorbar": {
             "outlinewidth": 0,
             "ticks": ""
            },
            "colorscale": [
             [
              0,
              "#0d0887"
             ],
             [
              0.1111111111111111,
              "#46039f"
             ],
             [
              0.2222222222222222,
              "#7201a8"
             ],
             [
              0.3333333333333333,
              "#9c179e"
             ],
             [
              0.4444444444444444,
              "#bd3786"
             ],
             [
              0.5555555555555556,
              "#d8576b"
             ],
             [
              0.6666666666666666,
              "#ed7953"
             ],
             [
              0.7777777777777778,
              "#fb9f3a"
             ],
             [
              0.8888888888888888,
              "#fdca26"
             ],
             [
              1,
              "#f0f921"
             ]
            ],
            "type": "heatmapgl"
           }
          ],
          "histogram": [
           {
            "marker": {
             "pattern": {
              "fillmode": "overlay",
              "size": 10,
              "solidity": 0.2
             }
            },
            "type": "histogram"
           }
          ],
          "histogram2d": [
           {
            "colorbar": {
             "outlinewidth": 0,
             "ticks": ""
            },
            "colorscale": [
             [
              0,
              "#0d0887"
             ],
             [
              0.1111111111111111,
              "#46039f"
             ],
             [
              0.2222222222222222,
              "#7201a8"
             ],
             [
              0.3333333333333333,
              "#9c179e"
             ],
             [
              0.4444444444444444,
              "#bd3786"
             ],
             [
              0.5555555555555556,
              "#d8576b"
             ],
             [
              0.6666666666666666,
              "#ed7953"
             ],
             [
              0.7777777777777778,
              "#fb9f3a"
             ],
             [
              0.8888888888888888,
              "#fdca26"
             ],
             [
              1,
              "#f0f921"
             ]
            ],
            "type": "histogram2d"
           }
          ],
          "histogram2dcontour": [
           {
            "colorbar": {
             "outlinewidth": 0,
             "ticks": ""
            },
            "colorscale": [
             [
              0,
              "#0d0887"
             ],
             [
              0.1111111111111111,
              "#46039f"
             ],
             [
              0.2222222222222222,
              "#7201a8"
             ],
             [
              0.3333333333333333,
              "#9c179e"
             ],
             [
              0.4444444444444444,
              "#bd3786"
             ],
             [
              0.5555555555555556,
              "#d8576b"
             ],
             [
              0.6666666666666666,
              "#ed7953"
             ],
             [
              0.7777777777777778,
              "#fb9f3a"
             ],
             [
              0.8888888888888888,
              "#fdca26"
             ],
             [
              1,
              "#f0f921"
             ]
            ],
            "type": "histogram2dcontour"
           }
          ],
          "mesh3d": [
           {
            "colorbar": {
             "outlinewidth": 0,
             "ticks": ""
            },
            "type": "mesh3d"
           }
          ],
          "parcoords": [
           {
            "line": {
             "colorbar": {
              "outlinewidth": 0,
              "ticks": ""
             }
            },
            "type": "parcoords"
           }
          ],
          "pie": [
           {
            "automargin": true,
            "type": "pie"
           }
          ],
          "scatter": [
           {
            "fillpattern": {
             "fillmode": "overlay",
             "size": 10,
             "solidity": 0.2
            },
            "type": "scatter"
           }
          ],
          "scatter3d": [
           {
            "line": {
             "colorbar": {
              "outlinewidth": 0,
              "ticks": ""
             }
            },
            "marker": {
             "colorbar": {
              "outlinewidth": 0,
              "ticks": ""
             }
            },
            "type": "scatter3d"
           }
          ],
          "scattercarpet": [
           {
            "marker": {
             "colorbar": {
              "outlinewidth": 0,
              "ticks": ""
             }
            },
            "type": "scattercarpet"
           }
          ],
          "scattergeo": [
           {
            "marker": {
             "colorbar": {
              "outlinewidth": 0,
              "ticks": ""
             }
            },
            "type": "scattergeo"
           }
          ],
          "scattergl": [
           {
            "marker": {
             "colorbar": {
              "outlinewidth": 0,
              "ticks": ""
             }
            },
            "type": "scattergl"
           }
          ],
          "scattermapbox": [
           {
            "marker": {
             "colorbar": {
              "outlinewidth": 0,
              "ticks": ""
             }
            },
            "type": "scattermapbox"
           }
          ],
          "scatterpolar": [
           {
            "marker": {
             "colorbar": {
              "outlinewidth": 0,
              "ticks": ""
             }
            },
            "type": "scatterpolar"
           }
          ],
          "scatterpolargl": [
           {
            "marker": {
             "colorbar": {
              "outlinewidth": 0,
              "ticks": ""
             }
            },
            "type": "scatterpolargl"
           }
          ],
          "scatterternary": [
           {
            "marker": {
             "colorbar": {
              "outlinewidth": 0,
              "ticks": ""
             }
            },
            "type": "scatterternary"
           }
          ],
          "surface": [
           {
            "colorbar": {
             "outlinewidth": 0,
             "ticks": ""
            },
            "colorscale": [
             [
              0,
              "#0d0887"
             ],
             [
              0.1111111111111111,
              "#46039f"
             ],
             [
              0.2222222222222222,
              "#7201a8"
             ],
             [
              0.3333333333333333,
              "#9c179e"
             ],
             [
              0.4444444444444444,
              "#bd3786"
             ],
             [
              0.5555555555555556,
              "#d8576b"
             ],
             [
              0.6666666666666666,
              "#ed7953"
             ],
             [
              0.7777777777777778,
              "#fb9f3a"
             ],
             [
              0.8888888888888888,
              "#fdca26"
             ],
             [
              1,
              "#f0f921"
             ]
            ],
            "type": "surface"
           }
          ],
          "table": [
           {
            "cells": {
             "fill": {
              "color": "#EBF0F8"
             },
             "line": {
              "color": "white"
             }
            },
            "header": {
             "fill": {
              "color": "#C8D4E3"
             },
             "line": {
              "color": "white"
             }
            },
            "type": "table"
           }
          ]
         },
         "layout": {
          "annotationdefaults": {
           "arrowcolor": "#2a3f5f",
           "arrowhead": 0,
           "arrowwidth": 1
          },
          "autotypenumbers": "strict",
          "coloraxis": {
           "colorbar": {
            "outlinewidth": 0,
            "ticks": ""
           }
          },
          "colorscale": {
           "diverging": [
            [
             0,
             "#8e0152"
            ],
            [
             0.1,
             "#c51b7d"
            ],
            [
             0.2,
             "#de77ae"
            ],
            [
             0.3,
             "#f1b6da"
            ],
            [
             0.4,
             "#fde0ef"
            ],
            [
             0.5,
             "#f7f7f7"
            ],
            [
             0.6,
             "#e6f5d0"
            ],
            [
             0.7,
             "#b8e186"
            ],
            [
             0.8,
             "#7fbc41"
            ],
            [
             0.9,
             "#4d9221"
            ],
            [
             1,
             "#276419"
            ]
           ],
           "sequential": [
            [
             0,
             "#0d0887"
            ],
            [
             0.1111111111111111,
             "#46039f"
            ],
            [
             0.2222222222222222,
             "#7201a8"
            ],
            [
             0.3333333333333333,
             "#9c179e"
            ],
            [
             0.4444444444444444,
             "#bd3786"
            ],
            [
             0.5555555555555556,
             "#d8576b"
            ],
            [
             0.6666666666666666,
             "#ed7953"
            ],
            [
             0.7777777777777778,
             "#fb9f3a"
            ],
            [
             0.8888888888888888,
             "#fdca26"
            ],
            [
             1,
             "#f0f921"
            ]
           ],
           "sequentialminus": [
            [
             0,
             "#0d0887"
            ],
            [
             0.1111111111111111,
             "#46039f"
            ],
            [
             0.2222222222222222,
             "#7201a8"
            ],
            [
             0.3333333333333333,
             "#9c179e"
            ],
            [
             0.4444444444444444,
             "#bd3786"
            ],
            [
             0.5555555555555556,
             "#d8576b"
            ],
            [
             0.6666666666666666,
             "#ed7953"
            ],
            [
             0.7777777777777778,
             "#fb9f3a"
            ],
            [
             0.8888888888888888,
             "#fdca26"
            ],
            [
             1,
             "#f0f921"
            ]
           ]
          },
          "colorway": [
           "#636efa",
           "#EF553B",
           "#00cc96",
           "#ab63fa",
           "#FFA15A",
           "#19d3f3",
           "#FF6692",
           "#B6E880",
           "#FF97FF",
           "#FECB52"
          ],
          "font": {
           "color": "#2a3f5f"
          },
          "geo": {
           "bgcolor": "white",
           "lakecolor": "white",
           "landcolor": "#E5ECF6",
           "showlakes": true,
           "showland": true,
           "subunitcolor": "white"
          },
          "hoverlabel": {
           "align": "left"
          },
          "hovermode": "closest",
          "mapbox": {
           "style": "light"
          },
          "paper_bgcolor": "white",
          "plot_bgcolor": "#E5ECF6",
          "polar": {
           "angularaxis": {
            "gridcolor": "white",
            "linecolor": "white",
            "ticks": ""
           },
           "bgcolor": "#E5ECF6",
           "radialaxis": {
            "gridcolor": "white",
            "linecolor": "white",
            "ticks": ""
           }
          },
          "scene": {
           "xaxis": {
            "backgroundcolor": "#E5ECF6",
            "gridcolor": "white",
            "gridwidth": 2,
            "linecolor": "white",
            "showbackground": true,
            "ticks": "",
            "zerolinecolor": "white"
           },
           "yaxis": {
            "backgroundcolor": "#E5ECF6",
            "gridcolor": "white",
            "gridwidth": 2,
            "linecolor": "white",
            "showbackground": true,
            "ticks": "",
            "zerolinecolor": "white"
           },
           "zaxis": {
            "backgroundcolor": "#E5ECF6",
            "gridcolor": "white",
            "gridwidth": 2,
            "linecolor": "white",
            "showbackground": true,
            "ticks": "",
            "zerolinecolor": "white"
           }
          },
          "shapedefaults": {
           "line": {
            "color": "#2a3f5f"
           }
          },
          "ternary": {
           "aaxis": {
            "gridcolor": "white",
            "linecolor": "white",
            "ticks": ""
           },
           "baxis": {
            "gridcolor": "white",
            "linecolor": "white",
            "ticks": ""
           },
           "bgcolor": "#E5ECF6",
           "caxis": {
            "gridcolor": "white",
            "linecolor": "white",
            "ticks": ""
           }
          },
          "title": {
           "x": 0.05
          },
          "xaxis": {
           "automargin": true,
           "gridcolor": "white",
           "linecolor": "white",
           "ticks": "",
           "title": {
            "standoff": 15
           },
           "zerolinecolor": "white",
           "zerolinewidth": 2
          },
          "yaxis": {
           "automargin": true,
           "gridcolor": "white",
           "linecolor": "white",
           "ticks": "",
           "title": {
            "standoff": 15
           },
           "zerolinecolor": "white",
           "zerolinewidth": 2
          }
         }
        },
        "xaxis": {
         "anchor": "y",
         "domain": [
          0,
          1
         ],
         "title": {
          "text": "pca1"
         }
        },
        "yaxis": {
         "anchor": "x",
         "domain": [
          0,
          1
         ],
         "title": {
          "text": "pca2"
         }
        }
       }
      }
     },
     "metadata": {},
     "output_type": "display_data"
    }
   ],
   "source": [
    "fig = px.scatter(mts_pca_df, x='pca1', y='pca2', hover_data=['index'], color='isTrain')\n",
    "fig.show()"
   ]
  },
  {
   "cell_type": "code",
   "execution_count": 36,
   "metadata": {},
   "outputs": [],
   "source": [
    "train_pca_df = mts_pca_df[mts_pca_df['isTrain'] == True]\n",
    "test_pca_df = mts_pca_df[mts_pca_df['isTrain'] == False]"
   ]
  },
  {
   "cell_type": "code",
   "execution_count": 41,
   "metadata": {},
   "outputs": [
    {
     "data": {
      "text/plain": [
       "array([[ 8.62436512e-01, -5.62059719e-04,  1.85494816e-01, ...,\n",
       "        -1.03141219e-03,  1.94249693e-01,  9.33000300e-01],\n",
       "       [ 8.60362072e-01, -9.13041799e-05,  1.01274338e-02, ...,\n",
       "        -1.02339439e-04,  4.12910184e-03,  9.64024732e-01],\n",
       "       [ 8.63940154e-01, -7.05957476e-04,  3.48781368e-01, ...,\n",
       "        -1.17903135e-03,  3.29178571e-01,  9.50966163e-01],\n",
       "       ...,\n",
       "       [ 8.14712600e-01,  8.62554574e-04,  7.18749093e-01, ...,\n",
       "         1.49995687e-03,  7.35318874e-01,  9.50667188e-01],\n",
       "       [ 9.26002054e-01,  1.10545084e-03,  9.15954216e-01, ...,\n",
       "         1.90249847e-03,  9.27879804e-01,  9.78128136e-01],\n",
       "       [ 8.17407273e-01,  6.30273071e-04,  6.44918810e-01, ...,\n",
       "         1.10861951e-03,  6.56129638e-01,  9.69847775e-01]])"
      ]
     },
     "execution_count": 41,
     "metadata": {},
     "output_type": "execute_result"
    }
   ],
   "source": [
    "mts_features_reshape"
   ]
  },
  {
   "cell_type": "markdown",
   "metadata": {},
   "source": [
    "## Correlation analysis"
   ]
  },
  {
   "cell_type": "code",
   "execution_count": 37,
   "metadata": {},
   "outputs": [
    {
     "name": "stdout",
     "output_type": "stream",
     "text": [
      "<class 'pandas.core.frame.DataFrame'>\n",
      "Index: 668 entries, 0 to 723\n",
      "Data columns (total 4 columns):\n",
      " #   Column   Non-Null Count  Dtype  \n",
      "---  ------   --------------  -----  \n",
      " 0   pca1     668 non-null    float64\n",
      " 1   pca2     668 non-null    float64\n",
      " 2   index    668 non-null    int64  \n",
      " 3   isTrain  668 non-null    bool   \n",
      "dtypes: bool(1), float64(2), int64(1)\n",
      "memory usage: 21.5 KB\n"
     ]
    }
   ],
   "source": [
    "train_pca_df.info()"
   ]
  },
  {
   "cell_type": "code",
   "execution_count": 46,
   "metadata": {},
   "outputs": [
    {
     "data": {
      "text/html": [
       "<div>\n",
       "<style scoped>\n",
       "    .dataframe tbody tr th:only-of-type {\n",
       "        vertical-align: middle;\n",
       "    }\n",
       "\n",
       "    .dataframe tbody tr th {\n",
       "        vertical-align: top;\n",
       "    }\n",
       "\n",
       "    .dataframe thead th {\n",
       "        text-align: right;\n",
       "    }\n",
       "</style>\n",
       "<table border=\"1\" class=\"dataframe\">\n",
       "  <thead>\n",
       "    <tr style=\"text-align: right;\">\n",
       "      <th></th>\n",
       "      <th>index</th>\n",
       "      <th>ts_name</th>\n",
       "      <th>trend-strength</th>\n",
       "      <th>trend-slope</th>\n",
       "      <th>trend-linearity</th>\n",
       "      <th>seasonal-strength</th>\n",
       "    </tr>\n",
       "  </thead>\n",
       "  <tbody>\n",
       "    <tr>\n",
       "      <th>0</th>\n",
       "      <td>0</td>\n",
       "      <td>grid-load</td>\n",
       "      <td>0.862437</td>\n",
       "      <td>-0.000562</td>\n",
       "      <td>0.185495</td>\n",
       "      <td>0.944772</td>\n",
       "    </tr>\n",
       "    <tr>\n",
       "      <th>1</th>\n",
       "      <td>0</td>\n",
       "      <td>grid-loss</td>\n",
       "      <td>0.945474</td>\n",
       "      <td>0.000073</td>\n",
       "      <td>0.140500</td>\n",
       "      <td>0.375897</td>\n",
       "    </tr>\n",
       "    <tr>\n",
       "      <th>2</th>\n",
       "      <td>0</td>\n",
       "      <td>grid-temp</td>\n",
       "      <td>0.849588</td>\n",
       "      <td>-0.001031</td>\n",
       "      <td>0.194250</td>\n",
       "      <td>0.933000</td>\n",
       "    </tr>\n",
       "    <tr>\n",
       "      <th>3</th>\n",
       "      <td>1</td>\n",
       "      <td>grid-load</td>\n",
       "      <td>0.860362</td>\n",
       "      <td>-0.000091</td>\n",
       "      <td>0.010127</td>\n",
       "      <td>0.968701</td>\n",
       "    </tr>\n",
       "    <tr>\n",
       "      <th>4</th>\n",
       "      <td>1</td>\n",
       "      <td>grid-loss</td>\n",
       "      <td>0.890130</td>\n",
       "      <td>-0.000030</td>\n",
       "      <td>0.065147</td>\n",
       "      <td>0.399718</td>\n",
       "    </tr>\n",
       "  </tbody>\n",
       "</table>\n",
       "</div>"
      ],
      "text/plain": [
       "   index    ts_name  trend-strength  trend-slope  trend-linearity  \\\n",
       "0      0  grid-load        0.862437    -0.000562         0.185495   \n",
       "1      0  grid-loss        0.945474     0.000073         0.140500   \n",
       "2      0  grid-temp        0.849588    -0.001031         0.194250   \n",
       "3      1  grid-load        0.860362    -0.000091         0.010127   \n",
       "4      1  grid-loss        0.890130    -0.000030         0.065147   \n",
       "\n",
       "   seasonal-strength  \n",
       "0           0.944772  \n",
       "1           0.375897  \n",
       "2           0.933000  \n",
       "3           0.968701  \n",
       "4           0.399718  "
      ]
     },
     "execution_count": 46,
     "metadata": {},
     "output_type": "execute_result"
    }
   ],
   "source": [
    "# Define mappings\n",
    "ts_names = {0: 'grid-load', 1: 'grid-loss', 2: 'grid-temp'}\n",
    "\n",
    "# Prepare DataFrame structure\n",
    "data = []\n",
    "for idx in range(features.shape[0]):\n",
    "    for ts_idx in range(features.shape[1]):\n",
    "        row = {\n",
    "            'index': idx,\n",
    "            'ts_name': ts_names[ts_idx],\n",
    "            'trend-strength': features[idx, ts_idx, 0],\n",
    "            'trend-slope': features[idx, ts_idx, 1],\n",
    "            'trend-linearity': features[idx, ts_idx, 2],\n",
    "            'seasonal-strength': features[idx, ts_idx, 3],\n",
    "        }\n",
    "        data.append(row)\n",
    "\n",
    "# Create the DataFrame\n",
    "df = pd.DataFrame(data)\n",
    "df.head()"
   ]
  },
  {
   "cell_type": "code",
   "execution_count": 48,
   "metadata": {},
   "outputs": [
    {
     "data": {
      "image/png": "[encoded data removed]",
      "text/plain": [
       "<Figure size 1200x1000 with 2 Axes>"
      ]
     },
     "metadata": {},
     "output_type": "display_data"
    }
   ],
   "source": [
    "import seaborn as sns\n",
    "import matplotlib.pyplot as plt\n",
    "\n",
    "# Pivot and flatten column names\n",
    "df_pivot = df.pivot_table(\n",
    "    index='index',\n",
    "    columns='ts_name',\n",
    "    values=['trend-strength', 'trend-slope', 'trend-linearity', 'seasonal-strength']\n",
    ")\n",
    "\n",
    "# Flatten multi-index columns\n",
    "df_pivot.columns = [f\"{ts}_{feature}\" for feature, ts in df_pivot.columns]\n",
    "\n",
    "# Rearrange columns to group by ts_name first\n",
    "sorted_columns = sorted(df_pivot.columns, key=lambda x: x.split('_')[0])\n",
    "df_pivot = df_pivot[sorted_columns]\n",
    "\n",
    "# Compute correlations\n",
    "corr_matrix = df_pivot.corr()\n",
    "\n",
    "# Plot heatmap\n",
    "plt.figure(figsize=(12, 10))\n",
    "sns.heatmap(corr_matrix, annot=True, cmap='coolwarm', square=True)\n",
    "plt.title(\"Correlation Heatmap (Grouped by Time Series)\")\n",
    "plt.show()\n"
   ]
  },
  {
   "cell_type": "code",
   "execution_count": 49,
   "metadata": {},
   "outputs": [
    {
     "data": {
      "text/html": [
       "<div>\n",
       "<style scoped>\n",
       "    .dataframe tbody tr th:only-of-type {\n",
       "        vertical-align: middle;\n",
       "    }\n",
       "\n",
       "    .dataframe tbody tr th {\n",
       "        vertical-align: top;\n",
       "    }\n",
       "\n",
       "    .dataframe thead th {\n",
       "        text-align: right;\n",
       "    }\n",
       "</style>\n",
       "<table border=\"1\" class=\"dataframe\">\n",
       "  <thead>\n",
       "    <tr style=\"text-align: right;\">\n",
       "      <th></th>\n",
       "      <th>grid-load_seasonal-strength</th>\n",
       "      <th>grid-load_trend-linearity</th>\n",
       "      <th>grid-load_trend-slope</th>\n",
       "      <th>grid-load_trend-strength</th>\n",
       "      <th>grid-loss_seasonal-strength</th>\n",
       "      <th>grid-loss_trend-linearity</th>\n",
       "      <th>grid-loss_trend-slope</th>\n",
       "      <th>grid-loss_trend-strength</th>\n",
       "      <th>grid-temp_seasonal-strength</th>\n",
       "      <th>grid-temp_trend-linearity</th>\n",
       "      <th>grid-temp_trend-slope</th>\n",
       "      <th>grid-temp_trend-strength</th>\n",
       "    </tr>\n",
       "    <tr>\n",
       "      <th>index</th>\n",
       "      <th></th>\n",
       "      <th></th>\n",
       "      <th></th>\n",
       "      <th></th>\n",
       "      <th></th>\n",
       "      <th></th>\n",
       "      <th></th>\n",
       "      <th></th>\n",
       "      <th></th>\n",
       "      <th></th>\n",
       "      <th></th>\n",
       "      <th></th>\n",
       "    </tr>\n",
       "  </thead>\n",
       "  <tbody>\n",
       "    <tr>\n",
       "      <th>0</th>\n",
       "      <td>0.944772</td>\n",
       "      <td>0.185495</td>\n",
       "      <td>-0.000562</td>\n",
       "      <td>0.862437</td>\n",
       "      <td>0.375897</td>\n",
       "      <td>0.140500</td>\n",
       "      <td>0.000073</td>\n",
       "      <td>0.945474</td>\n",
       "      <td>0.933000</td>\n",
       "      <td>0.194250</td>\n",
       "      <td>-0.001031</td>\n",
       "      <td>0.849588</td>\n",
       "    </tr>\n",
       "    <tr>\n",
       "      <th>1</th>\n",
       "      <td>0.968701</td>\n",
       "      <td>0.010127</td>\n",
       "      <td>-0.000091</td>\n",
       "      <td>0.860362</td>\n",
       "      <td>0.399718</td>\n",
       "      <td>0.065147</td>\n",
       "      <td>-0.000030</td>\n",
       "      <td>0.890130</td>\n",
       "      <td>0.964025</td>\n",
       "      <td>0.004129</td>\n",
       "      <td>-0.000102</td>\n",
       "      <td>0.854100</td>\n",
       "    </tr>\n",
       "    <tr>\n",
       "      <th>2</th>\n",
       "      <td>0.956525</td>\n",
       "      <td>0.348781</td>\n",
       "      <td>-0.000706</td>\n",
       "      <td>0.863940</td>\n",
       "      <td>0.295423</td>\n",
       "      <td>0.013555</td>\n",
       "      <td>0.000012</td>\n",
       "      <td>0.822561</td>\n",
       "      <td>0.950966</td>\n",
       "      <td>0.329179</td>\n",
       "      <td>-0.001179</td>\n",
       "      <td>0.856937</td>\n",
       "    </tr>\n",
       "    <tr>\n",
       "      <th>3</th>\n",
       "      <td>0.974909</td>\n",
       "      <td>0.719954</td>\n",
       "      <td>-0.001013</td>\n",
       "      <td>0.913748</td>\n",
       "      <td>0.183332</td>\n",
       "      <td>0.097971</td>\n",
       "      <td>-0.000051</td>\n",
       "      <td>0.905197</td>\n",
       "      <td>0.973655</td>\n",
       "      <td>0.717535</td>\n",
       "      <td>-0.001741</td>\n",
       "      <td>0.915380</td>\n",
       "    </tr>\n",
       "    <tr>\n",
       "      <th>4</th>\n",
       "      <td>0.952880</td>\n",
       "      <td>0.000430</td>\n",
       "      <td>0.000032</td>\n",
       "      <td>0.907825</td>\n",
       "      <td>0.257248</td>\n",
       "      <td>0.409159</td>\n",
       "      <td>-0.000144</td>\n",
       "      <td>0.944452</td>\n",
       "      <td>0.949127</td>\n",
       "      <td>0.002037</td>\n",
       "      <td>0.000123</td>\n",
       "      <td>0.910843</td>\n",
       "    </tr>\n",
       "    <tr>\n",
       "      <th>...</th>\n",
       "      <td>...</td>\n",
       "      <td>...</td>\n",
       "      <td>...</td>\n",
       "      <td>...</td>\n",
       "      <td>...</td>\n",
       "      <td>...</td>\n",
       "      <td>...</td>\n",
       "      <td>...</td>\n",
       "      <td>...</td>\n",
       "      <td>...</td>\n",
       "      <td>...</td>\n",
       "      <td>...</td>\n",
       "    </tr>\n",
       "    <tr>\n",
       "      <th>719</th>\n",
       "      <td>0.952433</td>\n",
       "      <td>0.140809</td>\n",
       "      <td>-0.000409</td>\n",
       "      <td>0.844201</td>\n",
       "      <td>0.674385</td>\n",
       "      <td>0.017933</td>\n",
       "      <td>-0.000020</td>\n",
       "      <td>0.959008</td>\n",
       "      <td>0.951429</td>\n",
       "      <td>0.161915</td>\n",
       "      <td>-0.000766</td>\n",
       "      <td>0.851451</td>\n",
       "    </tr>\n",
       "    <tr>\n",
       "      <th>720</th>\n",
       "      <td>0.960011</td>\n",
       "      <td>0.044459</td>\n",
       "      <td>0.000208</td>\n",
       "      <td>0.835426</td>\n",
       "      <td>0.736767</td>\n",
       "      <td>0.788320</td>\n",
       "      <td>-0.000117</td>\n",
       "      <td>0.960220</td>\n",
       "      <td>0.958886</td>\n",
       "      <td>0.045828</td>\n",
       "      <td>0.000361</td>\n",
       "      <td>0.837939</td>\n",
       "    </tr>\n",
       "    <tr>\n",
       "      <th>721</th>\n",
       "      <td>0.952221</td>\n",
       "      <td>0.718749</td>\n",
       "      <td>0.000863</td>\n",
       "      <td>0.814713</td>\n",
       "      <td>0.760612</td>\n",
       "      <td>0.940535</td>\n",
       "      <td>-0.000148</td>\n",
       "      <td>0.975278</td>\n",
       "      <td>0.950667</td>\n",
       "      <td>0.735319</td>\n",
       "      <td>0.001500</td>\n",
       "      <td>0.819299</td>\n",
       "    </tr>\n",
       "    <tr>\n",
       "      <th>722</th>\n",
       "      <td>0.978152</td>\n",
       "      <td>0.915954</td>\n",
       "      <td>0.001105</td>\n",
       "      <td>0.926002</td>\n",
       "      <td>0.697398</td>\n",
       "      <td>0.879681</td>\n",
       "      <td>-0.000123</td>\n",
       "      <td>0.961092</td>\n",
       "      <td>0.978128</td>\n",
       "      <td>0.927880</td>\n",
       "      <td>0.001902</td>\n",
       "      <td>0.929404</td>\n",
       "    </tr>\n",
       "    <tr>\n",
       "      <th>723</th>\n",
       "      <td>0.971124</td>\n",
       "      <td>0.644919</td>\n",
       "      <td>0.000630</td>\n",
       "      <td>0.817407</td>\n",
       "      <td>0.487631</td>\n",
       "      <td>0.769807</td>\n",
       "      <td>-0.000075</td>\n",
       "      <td>0.903319</td>\n",
       "      <td>0.969848</td>\n",
       "      <td>0.656130</td>\n",
       "      <td>0.001109</td>\n",
       "      <td>0.823398</td>\n",
       "    </tr>\n",
       "  </tbody>\n",
       "</table>\n",
       "<p>724 rows × 12 columns</p>\n",
       "</div>"
      ],
      "text/plain": [
       "       grid-load_seasonal-strength  grid-load_trend-linearity  \\\n",
       "index                                                           \n",
       "0                         0.944772                   0.185495   \n",
       "1                         0.968701                   0.010127   \n",
       "2                         0.956525                   0.348781   \n",
       "3                         0.974909                   0.719954   \n",
       "4                         0.952880                   0.000430   \n",
       "...                            ...                        ...   \n",
       "719                       0.952433                   0.140809   \n",
       "720                       0.960011                   0.044459   \n",
       "721                       0.952221                   0.718749   \n",
       "722                       0.978152                   0.915954   \n",
       "723                       0.971124                   0.644919   \n",
       "\n",
       "       grid-load_trend-slope  grid-load_trend-strength  \\\n",
       "index                                                    \n",
       "0                  -0.000562                  0.862437   \n",
       "1                  -0.000091                  0.860362   \n",
       "2                  -0.000706                  0.863940   \n",
       "3                  -0.001013                  0.913748   \n",
       "4                   0.000032                  0.907825   \n",
       "...                      ...                       ...   \n",
       "719                -0.000409                  0.844201   \n",
       "720                 0.000208                  0.835426   \n",
       "721                 0.000863                  0.814713   \n",
       "722                 0.001105                  0.926002   \n",
       "723                 0.000630                  0.817407   \n",
       "\n",
       "       grid-loss_seasonal-strength  grid-loss_trend-linearity  \\\n",
       "index                                                           \n",
       "0                         0.375897                   0.140500   \n",
       "1                         0.399718                   0.065147   \n",
       "2                         0.295423                   0.013555   \n",
       "3                         0.183332                   0.097971   \n",
       "4                         0.257248                   0.409159   \n",
       "...                            ...                        ...   \n",
       "719                       0.674385                   0.017933   \n",
       "720                       0.736767                   0.788320   \n",
       "721                       0.760612                   0.940535   \n",
       "722                       0.697398                   0.879681   \n",
       "723                       0.487631                   0.769807   \n",
       "\n",
       "       grid-loss_trend-slope  grid-loss_trend-strength  \\\n",
       "index                                                    \n",
       "0                   0.000073                  0.945474   \n",
       "1                  -0.000030                  0.890130   \n",
       "2                   0.000012                  0.822561   \n",
       "3                  -0.000051                  0.905197   \n",
       "4                  -0.000144                  0.944452   \n",
       "...                      ...                       ...   \n",
       "719                -0.000020                  0.959008   \n",
       "720                -0.000117                  0.960220   \n",
       "721                -0.000148                  0.975278   \n",
       "722                -0.000123                  0.961092   \n",
       "723                -0.000075                  0.903319   \n",
       "\n",
       "       grid-temp_seasonal-strength  grid-temp_trend-linearity  \\\n",
       "index                                                           \n",
       "0                         0.933000                   0.194250   \n",
       "1                         0.964025                   0.004129   \n",
       "2                         0.950966                   0.329179   \n",
       "3                         0.973655                   0.717535   \n",
       "4                         0.949127                   0.002037   \n",
       "...                            ...                        ...   \n",
       "719                       0.951429                   0.161915   \n",
       "720                       0.958886                   0.045828   \n",
       "721                       0.950667                   0.735319   \n",
       "722                       0.978128                   0.927880   \n",
       "723                       0.969848                   0.656130   \n",
       "\n",
       "       grid-temp_trend-slope  grid-temp_trend-strength  \n",
       "index                                                   \n",
       "0                  -0.001031                  0.849588  \n",
       "1                  -0.000102                  0.854100  \n",
       "2                  -0.001179                  0.856937  \n",
       "3                  -0.001741                  0.915380  \n",
       "4                   0.000123                  0.910843  \n",
       "...                      ...                       ...  \n",
       "719                -0.000766                  0.851451  \n",
       "720                 0.000361                  0.837939  \n",
       "721                 0.001500                  0.819299  \n",
       "722                 0.001902                  0.929404  \n",
       "723                 0.001109                  0.823398  \n",
       "\n",
       "[724 rows x 12 columns]"
      ]
     },
     "execution_count": 49,
     "metadata": {},
     "output_type": "execute_result"
    }
   ],
   "source": [
    "df_pivot"
   ]
  },
  {
   "cell_type": "markdown",
   "metadata": {},
   "source": [
    "# Loading correlation model"
   ]
  },
  {
   "cell_type": "markdown",
   "metadata": {},
   "source": []
  },
  {
   "cell_type": "markdown",
   "metadata": {},
   "source": [
    "# Training correlation model"
   ]
  },
  {
   "cell_type": "markdown",
   "metadata": {},
   "source": []
  },
  {
   "cell_type": "markdown",
   "metadata": {},
   "source": [
    "# Evaluating correlation model on test data"
   ]
  },
  {
   "cell_type": "markdown",
   "metadata": {},
   "source": []
  }
 ],
 "metadata": {
  "kernelspec": {
   "display_name": "BEAST_ENV",
   "language": "python",
   "name": "python3"
  },
  "language_info": {
   "codemirror_mode": {
    "name": "ipython",
    "version": 3
   },
   "file_extension": ".py",
   "mimetype": "text/x-python",
   "name": "python",
   "nbconvert_exporter": "python",
   "pygments_lexer": "ipython3",
   "version": "3.12.8"
  }
 },
 "nbformat": 4,
 "nbformat_minor": 2
}
